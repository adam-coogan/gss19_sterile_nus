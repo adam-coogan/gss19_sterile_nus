{
 "cells": [
  {
   "cell_type": "markdown",
   "metadata": {},
   "source": [
    "## GRAPPA Student Seminar 2019\n",
    "# Week 2 - Script\n",
    "### by *The Sterile Neutrinos* group"
   ]
  },
  {
   "cell_type": "markdown",
   "metadata": {},
   "source": [
    "### Part 0: Pen and Paper (bonus)\n",
    "\n",
    "*Feel free to skip to the next section.*\n",
    "\n",
    "We wish to find the $J$-factor, defined as\n",
    "$$\\frac{\\text{d}J}{\\text{d}\\Omega} \\equiv \\int \\rho^2 \\text{d}L,$$\n",
    "where the integral is taken along the line of sight from an observer in the direction of $\\text{d}\\Omega$, and $\\rho$ is the density of dark matter. In particular, we will be calculating this from the vantage point of an observer on Earth, i.e. located a distance $R_0$ away from the centre of the Milky Way, whose dark matter density we will assume to be given by the NFW profile:\n",
    "$$\\frac{\\rho(r)}{\\rho_s} = \\frac{1}{r(1+r)^2},$$\n",
    "where $\\rho_s$ is a normalisation constant, and $r$ is the distance from the centre of the halo in units of the scale radius $r_s$. In these units the observer is located at $r_0 = R_0 / r_s$, and so for points along a line of sight an angle $\\psi$ away from the firection towards the Galactic centre, the cosine rule gives\n",
    "$$r^2 = l^2 + r_0^2 - 2 r_0 l \\cos{\\psi} \\quad\\implies\\quad \\text{d}l = \\frac{r}{l-r_0\\cos{\\psi}} \\text{d}r = \\pm \\frac{r}{\\sqrt{r^2 - r_0^2\\sin^2{\\psi}}} \\text{d}r.$$\n",
    "(In the last line we use Pythagoras's theorem and a bit of algebraic manipulation, otherwise known as staring at a drawing.) Here $l\\equiv L/r_s$ is the distance along the line of sight, whose differential we substitute in the definition of $J$:\n",
    "$$\\frac{1}{\\rho_s r_s} \\frac{\\text{d}J}{\\text{d}\\Omega} \\equiv \\frac{\\text{d}j}{\\text{d}\\Omega} = \\pm \\int \\frac{\\text{d}r}{r(1+r)^4\\sqrt{r^2-r_0^2\\sin^2\\psi}}.$$\n",
    "\n",
    "Now for the limits: the line of sight variable $l$ ranges from $0$ to $+\\infty$, while the behaviour of $r$ depends on the value of $\\psi$. For \"Galactic longitudes\" smaller than $\\pi/2$ it initially decreases from $r_0$ to $r_0\\sin\\psi$, in which interval the integrand has a negative sign, and then increases from $r_0\\sin\\psi$ to $\\infty$. Thus, we can write the integral as\n",
    "\\begin{align}\n",
    "    \\left.\\frac{\\text{d}j}{\\text{d}\\Omega}\\right|_{\\psi<\\pi/2}\n",
    "    & = \\left[-\\int\\limits_{r_0}^{r_0\\sin\\psi} + \\int\\limits_{r_0\\sin\\psi}^{\\infty}\\right] \\frac{\\text{d}r}{r(1+r)^4\\sqrt{r^2-r_0^2\\sin^2\\psi}} = \\left[\\int\\limits_{r_0\\sin\\psi}^{r_0} + \\int\\limits_{r_0\\sin\\psi}^{\\infty}\\right] \\frac{\\text{d}r}{r(1+r)^4\\sqrt{r^2-r_0^2\\sin^2\\psi}}\n",
    "    \\\\ & = I(r_0)+I(\\infty)-2I(r_0\\sin\\psi)\n",
    "\\end{align}\n",
    "with $I$ the indefinite integral. When $\\psi > \\pi/2$ the behaviour is simpler, and $r$ ranges from $r_0$ to $\\infty$, so\n",
    "$$\\left.\\frac{\\text{d}j}{\\text{d}\\Omega}\\right|_{\\psi>\\pi/2} = I(\\infty) - I(r_0).$$\n",
    "However, we will not be very interested in this case because the dark matter density (and hence, chance of interactions) is greatest towards the centre of the halo, so this is where we will be directing our efforts and observations.\n",
    "\n",
    "Now we simply need to get the indefinite integral. Using Mathematica, we can expand the integrand into \"partial fractions\" (even though it is not strictly a rational function), which we painstakingly transcribe into Python (just kidding, we use FortranForm in Mathematica and cmd+C, cmd+V). We will use `sympy` for symbolic manipulation. In fact, it has an equivalent `apart` function, but it, sadly, cannot handle roots."
   ]
  },
  {
   "cell_type": "code",
   "execution_count": 1,
   "metadata": {
    "scrolled": true
   },
   "outputs": [
    {
     "data": {
      "text/latex": [
       "$\\displaystyle - \\frac{a^{6} \\sqrt{- a^{2} + r^{2}}}{\\left(a - 1\\right)^{4} \\left(a + 1\\right)^{4} \\left(r + 1\\right)} - \\frac{a^{4} \\sqrt{- a^{2} + r^{2}}}{\\left(a - 1\\right)^{3} \\left(a + 1\\right)^{3} \\left(r + 1\\right)^{2}} + \\frac{4 a^{4} \\sqrt{- a^{2} + r^{2}}}{\\left(a - 1\\right)^{4} \\left(a + 1\\right)^{4} \\left(r + 1\\right)} - \\frac{a^{2} \\sqrt{- a^{2} + r^{2}}}{\\left(a - 1\\right)^{2} \\left(a + 1\\right)^{2} \\left(r + 1\\right)^{3}} + \\frac{3 a^{2} \\sqrt{- a^{2} + r^{2}}}{\\left(a - 1\\right)^{3} \\left(a + 1\\right)^{3} \\left(r + 1\\right)^{2}} - \\frac{5 a^{2} \\sqrt{- a^{2} + r^{2}}}{\\left(a - 1\\right)^{4} \\left(a + 1\\right)^{4} \\left(r + 1\\right)} - \\frac{\\sqrt{- a^{2} + r^{2}}}{\\left(a - 1\\right) \\left(a + 1\\right) \\left(r + 1\\right)^{4}} + \\frac{3 \\sqrt{- a^{2} + r^{2}}}{\\left(a - 1\\right)^{2} \\left(a + 1\\right)^{2} \\left(r + 1\\right)^{3}} - \\frac{6 \\sqrt{- a^{2} + r^{2}}}{\\left(a - 1\\right)^{3} \\left(a + 1\\right)^{3} \\left(r + 1\\right)^{2}} + \\frac{10 \\sqrt{- a^{2} + r^{2}}}{\\left(a - 1\\right)^{4} \\left(a + 1\\right)^{4} \\left(r + 1\\right)} - \\frac{0.5 \\sqrt{- a^{2} + r^{2}}}{a^{2} \\left(a - 1\\right)^{4} \\left(a + r\\right)} - \\frac{0.5 \\sqrt{- a^{2} + r^{2}}}{a^{2} \\left(- a + r\\right) \\left(a + 1\\right)^{4}} - \\frac{\\sqrt{- a^{2} + r^{2}}}{a^{2} r}$"
      ],
      "text/plain": [
       "-a**6*sqrt(-a**2 + r**2)/((a - 1)**4*(a + 1)**4*(r + 1)) - a**4*sqrt(-a**2 + r**2)/((a - 1)**3*(a + 1)**3*(r + 1)**2) + 4*a**4*sqrt(-a**2 + r**2)/((a - 1)**4*(a + 1)**4*(r + 1)) - a**2*sqrt(-a**2 + r**2)/((a - 1)**2*(a + 1)**2*(r + 1)**3) + 3*a**2*sqrt(-a**2 + r**2)/((a - 1)**3*(a + 1)**3*(r + 1)**2) - 5*a**2*sqrt(-a**2 + r**2)/((a - 1)**4*(a + 1)**4*(r + 1)) - sqrt(-a**2 + r**2)/((a - 1)*(a + 1)*(r + 1)**4) + 3*sqrt(-a**2 + r**2)/((a - 1)**2*(a + 1)**2*(r + 1)**3) - 6*sqrt(-a**2 + r**2)/((a - 1)**3*(a + 1)**3*(r + 1)**2) + 10*sqrt(-a**2 + r**2)/((a - 1)**4*(a + 1)**4*(r + 1)) - 0.5*sqrt(-a**2 + r**2)/(a**2*(a - 1)**4*(a + r)) - 0.5*sqrt(-a**2 + r**2)/(a**2*(-a + r)*(a + 1)**4) - sqrt(-a**2 + r**2)/(a**2*r)"
      ]
     },
     "execution_count": 1,
     "metadata": {},
     "output_type": "execute_result"
    }
   ],
   "source": [
    "import sympy as sym\n",
    "\n",
    "r = sym.Symbol('r', nonnegative=True)\n",
    "r_0 = sym.Symbol('r_0', nonnegative=True)\n",
    "psi = sym.Symbol(\"psi\")\n",
    "\n",
    "a = sym.Symbol('a', nonnegative=True)\n",
    "\n",
    "igrand = (-(sym.sqrt(-a**2 + r**2)/(a**2*r)) + \n",
    "          -  sym.sqrt(-a**2 + r**2)/((-1 + a)*(1 + a)*(1 + r)**4) - \n",
    "          -  (3*sym.sqrt(-a**2 + r**2))/((-1 + a)**2*(1 + a)**2*(1 + r)**3) + \n",
    "          -  (a**2*sym.sqrt(-a**2 + r**2))/((-1 + a)**2*(1 + a)**2*(1 + r)**3) + \n",
    "          -  (6*sym.sqrt(-a**2 + r**2))/((-1 + a)**3*(1 + a)**3*(1 + r)**2) - \n",
    "          -  (3*a**2*sym.sqrt(-a**2 + r**2))/((-1 + a)**3*(1 + a)**3*(1 + r)**2) + \n",
    "          -  (a**4*sym.sqrt(-a**2 + r**2))/((-1 + a)**3*(1 + a)**3*(1 + r)**2) - \n",
    "          -  (10*sym.sqrt(-a**2 + r**2))/((-1 + a)**4*(1 + a)**4*(1 + r)) + \n",
    "          -  (5*a**2*sym.sqrt(-a**2 + r**2))/((-1 + a)**4*(1 + a)**4*(1 + r)) - \n",
    "          -  (4*a**4*sym.sqrt(-a**2 + r**2))/((-1 + a)**4*(1 + a)**4*(1 + r)) + \n",
    "          -  (a**6*sym.sqrt(-a**2 + r**2))/((-1 + a)**4*(1 + a)**4*(1 + r)) + \n",
    "          -  sym.sqrt(-a**2 + r**2)/(2.*a**2*(1 + a)**4*(-a + r)) + \n",
    "          -  sym.sqrt(-a**2 + r**2)/(2.*(-1 + a)**4*a**2*(a + r)))\n",
    "igrand"
   ]
  },
  {
   "cell_type": "markdown",
   "metadata": {},
   "source": [
    "Nice. Thankfully, we introduced $a\\equiv r_0\\sin\\psi$ because life is short. We would have liked it very much if `sympy` could integrate these \"simple\" terms, but, again, it falls short, and we resort to Mathematica and copy-paste again:"
   ]
  },
  {
   "cell_type": "code",
   "execution_count": 2,
   "metadata": {},
   "outputs": [
    {
     "data": {
      "text/latex": [
       "$\\displaystyle - \\frac{\\sqrt{- a^{2} + r^{2}} \\left(a^{4} \\left(6 r^{2} + 15 r + 11\\right) - a^{2} \\left(17 r^{2} + 45 r + 32\\right) + 26 r^{2} + 60 r + 36\\right)}{6 \\left(a^{2} - 1\\right)^{3} \\left(r + 1\\right)^{3}} + \\frac{i \\left(2 a^{6} - 7 a^{4} + 8 a^{2} - 8\\right) \\log{\\left(\\frac{4 \\left(a^{2} - 1\\right)^{\\frac{5}{2}} \\left(- i a^{2} - i r + \\sqrt{- a^{2} + r^{2}} \\sqrt{a^{2} - 1}\\right)}{\\left(r + 1\\right) \\left(2 a^{6} - 7 a^{4} + 8 a^{2} - 8\\right)} \\right)}}{2 \\left(a^{2} - 1\\right)^{\\frac{7}{2}}} - \\frac{i \\log{\\left(\\frac{2 i a - 2 \\sqrt{- a^{2} + r^{2}}}{r} \\right)}}{a}$"
      ],
      "text/plain": [
       "-sqrt(-a**2 + r**2)*(a**4*(6*r**2 + 15*r + 11) - a**2*(17*r**2 + 45*r + 32) + 26*r**2 + 60*r + 36)/(6*(a**2 - 1)**3*(r + 1)**3) + I*(2*a**6 - 7*a**4 + 8*a**2 - 8)*log(4*(a**2 - 1)**(5/2)*(-I*a**2 - I*r + sqrt(-a**2 + r**2)*sqrt(a**2 - 1))/((r + 1)*(2*a**6 - 7*a**4 + 8*a**2 - 8)))/(2*(a**2 - 1)**(7/2)) - I*log((2*I*a - 2*sqrt(-a**2 + r**2))/r)/a"
      ]
     },
     "execution_count": 2,
     "metadata": {},
     "output_type": "execute_result"
    }
   ],
   "source": [
    "igral = (-(sym.sqrt(-a**2 + r**2)\n",
    "           * (36 + 60*r + 26*r**2 + a**4 * (11 + 15*r + 6*r**2) - a**2 * (32 + 45*r + 17*r**2))\n",
    "           / (6 * (-1 + a**2)**3*(1 + r)**3))\n",
    "         - ((sym.I * sym.log((2*sym.I*a - 2*sym.sqrt(-a**2 + r**2))/r))\n",
    "            / a)\n",
    "         + (sym.I\n",
    "            * (-8 + 8*a**2 - 7*a**4 + 2*a**6)\n",
    "            * sym.log((4 * (-1 + a**2)**(sym.Rational(5, 2))\n",
    "                         * (-sym.I*a**2 - sym.I*r\n",
    "                            + sym.sqrt(-1 + a**2) * sym.sqrt(-a**2 + r**2)))\n",
    "                      / ((-8 + 8*a**2 - 7*a**4 + 2*a**6)*(1 + r)))\n",
    "            / (2 * (-1 + a**2)**sym.Rational(7, 2))))\n",
    "igral"
   ]
  },
  {
   "cell_type": "markdown",
   "metadata": {},
   "source": [
    "Even nicer. Now we have imaginary logarithms, so no wonder `sympy` found it too hard. It probably doesn't know about principal branches and such. We'll pretend we don't as well and simply go on..."
   ]
  },
  {
   "cell_type": "markdown",
   "metadata": {},
   "source": [
    "Let us now obtain the final expression for $\\psi < \\pi/2$ according to the above formula. However, let us not complicate things with infinities and instead consider a large upper bound $b$ on the integration, which we will let tend to infinity in the end. This is, in fact, the formal way to proceed with infinite integration."
   ]
  },
  {
   "cell_type": "code",
   "execution_count": 3,
   "metadata": {},
   "outputs": [
    {
     "data": {
      "text/latex": [
       "$\\displaystyle \\frac{i \\left(2 r_{0}^{6} \\sin^{6}{\\left(\\psi \\right)} - 7 r_{0}^{4} \\sin^{4}{\\left(\\psi \\right)} + 8 r_{0}^{2} \\sin^{2}{\\left(\\psi \\right)} - 8\\right) \\log{\\left(\\frac{4 \\left(r_{0}^{2} \\sin^{2}{\\left(\\psi \\right)} - 1\\right)^{\\frac{5}{2}} \\left(- i b - i r_{0}^{2} \\sin^{2}{\\left(\\psi \\right)} + \\sqrt{b^{2} - r_{0}^{2} \\sin^{2}{\\left(\\psi \\right)}} \\sqrt{r_{0}^{2} \\sin^{2}{\\left(\\psi \\right)} - 1}\\right)}{\\left(b + 1\\right) \\left(2 r_{0}^{6} \\sin^{6}{\\left(\\psi \\right)} - 7 r_{0}^{4} \\sin^{4}{\\left(\\psi \\right)} + 8 r_{0}^{2} \\sin^{2}{\\left(\\psi \\right)} - 8\\right)} \\right)}}{2 \\left(r_{0}^{2} \\sin^{2}{\\left(\\psi \\right)} - 1\\right)^{\\frac{7}{2}}} + \\frac{i \\left(2 r_{0}^{6} \\sin^{6}{\\left(\\psi \\right)} - 7 r_{0}^{4} \\sin^{4}{\\left(\\psi \\right)} + 8 r_{0}^{2} \\sin^{2}{\\left(\\psi \\right)} - 8\\right) \\log{\\left(\\frac{4 \\left(r_{0}^{2} \\sin^{2}{\\left(\\psi \\right)} - 1\\right)^{\\frac{5}{2}} \\left(- i r_{0}^{2} \\sin^{2}{\\left(\\psi \\right)} - i r_{0} + \\sqrt{- r_{0}^{2} \\sin^{2}{\\left(\\psi \\right)} + r_{0}^{2}} \\sqrt{r_{0}^{2} \\sin^{2}{\\left(\\psi \\right)} - 1}\\right)}{\\left(r_{0} + 1\\right) \\left(2 r_{0}^{6} \\sin^{6}{\\left(\\psi \\right)} - 7 r_{0}^{4} \\sin^{4}{\\left(\\psi \\right)} + 8 r_{0}^{2} \\sin^{2}{\\left(\\psi \\right)} - 8\\right)} \\right)}}{2 \\left(r_{0}^{2} \\sin^{2}{\\left(\\psi \\right)} - 1\\right)^{\\frac{7}{2}}} - \\frac{i \\left(2 r_{0}^{6} \\sin^{6}{\\left(\\psi \\right)} - 7 r_{0}^{4} \\sin^{4}{\\left(\\psi \\right)} + 8 r_{0}^{2} \\sin^{2}{\\left(\\psi \\right)} - 8\\right) \\log{\\left(\\frac{4 \\left(r_{0}^{2} \\sin^{2}{\\left(\\psi \\right)} - 1\\right)^{\\frac{5}{2}} \\left(- i r_{0}^{2} \\sin^{2}{\\left(\\psi \\right)} - i r_{0} \\sin{\\left(\\psi \\right)}\\right)}{\\left(r_{0} \\sin{\\left(\\psi \\right)} + 1\\right) \\left(2 r_{0}^{6} \\sin^{6}{\\left(\\psi \\right)} - 7 r_{0}^{4} \\sin^{4}{\\left(\\psi \\right)} + 8 r_{0}^{2} \\sin^{2}{\\left(\\psi \\right)} - 8\\right)} \\right)}}{\\left(r_{0}^{2} \\sin^{2}{\\left(\\psi \\right)} - 1\\right)^{\\frac{7}{2}}} - \\frac{\\sqrt{- r_{0}^{2} \\sin^{2}{\\left(\\psi \\right)} + r_{0}^{2}} \\left(r_{0}^{4} \\left(6 r_{0}^{2} + 15 r_{0} + 11\\right) \\sin^{4}{\\left(\\psi \\right)} - r_{0}^{2} \\left(17 r_{0}^{2} + 45 r_{0} + 32\\right) \\sin^{2}{\\left(\\psi \\right)} + 26 r_{0}^{2} + 60 r_{0} + 36\\right)}{6 \\left(r_{0} + 1\\right)^{3} \\left(r_{0}^{2} \\sin^{2}{\\left(\\psi \\right)} - 1\\right)^{3}} - \\frac{\\sqrt{b^{2} - r_{0}^{2} \\sin^{2}{\\left(\\psi \\right)}} \\left(26 b^{2} + 60 b + r_{0}^{4} \\left(6 b^{2} + 15 b + 11\\right) \\sin^{4}{\\left(\\psi \\right)} - r_{0}^{2} \\left(17 b^{2} + 45 b + 32\\right) \\sin^{2}{\\left(\\psi \\right)} + 36\\right)}{6 \\left(b + 1\\right)^{3} \\left(r_{0}^{2} \\sin^{2}{\\left(\\psi \\right)} - 1\\right)^{3}} - \\frac{i \\log{\\left(\\frac{2 i r_{0} \\sin{\\left(\\psi \\right)} - 2 \\sqrt{b^{2} - r_{0}^{2} \\sin^{2}{\\left(\\psi \\right)}}}{b} \\right)}}{r_{0} \\sin{\\left(\\psi \\right)}} - \\frac{i \\log{\\left(\\frac{2 i r_{0} \\sin{\\left(\\psi \\right)} - 2 \\sqrt{- r_{0}^{2} \\sin^{2}{\\left(\\psi \\right)} + r_{0}^{2}}}{r_{0}} \\right)}}{r_{0} \\sin{\\left(\\psi \\right)}} + \\frac{2 i \\left(\\log{\\left(2 \\right)} + \\frac{i \\pi}{2}\\right)}{r_{0} \\sin{\\left(\\psi \\right)}}$"
      ],
      "text/plain": [
       "I*(2*r_0**6*sin(psi)**6 - 7*r_0**4*sin(psi)**4 + 8*r_0**2*sin(psi)**2 - 8)*log(4*(r_0**2*sin(psi)**2 - 1)**(5/2)*(-I*b - I*r_0**2*sin(psi)**2 + sqrt(b**2 - r_0**2*sin(psi)**2)*sqrt(r_0**2*sin(psi)**2 - 1))/((b + 1)*(2*r_0**6*sin(psi)**6 - 7*r_0**4*sin(psi)**4 + 8*r_0**2*sin(psi)**2 - 8)))/(2*(r_0**2*sin(psi)**2 - 1)**(7/2)) + I*(2*r_0**6*sin(psi)**6 - 7*r_0**4*sin(psi)**4 + 8*r_0**2*sin(psi)**2 - 8)*log(4*(r_0**2*sin(psi)**2 - 1)**(5/2)*(-I*r_0**2*sin(psi)**2 - I*r_0 + sqrt(-r_0**2*sin(psi)**2 + r_0**2)*sqrt(r_0**2*sin(psi)**2 - 1))/((r_0 + 1)*(2*r_0**6*sin(psi)**6 - 7*r_0**4*sin(psi)**4 + 8*r_0**2*sin(psi)**2 - 8)))/(2*(r_0**2*sin(psi)**2 - 1)**(7/2)) - I*(2*r_0**6*sin(psi)**6 - 7*r_0**4*sin(psi)**4 + 8*r_0**2*sin(psi)**2 - 8)*log(4*(r_0**2*sin(psi)**2 - 1)**(5/2)*(-I*r_0**2*sin(psi)**2 - I*r_0*sin(psi))/((r_0*sin(psi) + 1)*(2*r_0**6*sin(psi)**6 - 7*r_0**4*sin(psi)**4 + 8*r_0**2*sin(psi)**2 - 8)))/(r_0**2*sin(psi)**2 - 1)**(7/2) - sqrt(-r_0**2*sin(psi)**2 + r_0**2)*(r_0**4*(6*r_0**2 + 15*r_0 + 11)*sin(psi)**4 - r_0**2*(17*r_0**2 + 45*r_0 + 32)*sin(psi)**2 + 26*r_0**2 + 60*r_0 + 36)/(6*(r_0 + 1)**3*(r_0**2*sin(psi)**2 - 1)**3) - sqrt(b**2 - r_0**2*sin(psi)**2)*(26*b**2 + 60*b + r_0**4*(6*b**2 + 15*b + 11)*sin(psi)**4 - r_0**2*(17*b**2 + 45*b + 32)*sin(psi)**2 + 36)/(6*(b + 1)**3*(r_0**2*sin(psi)**2 - 1)**3) - I*log((2*I*r_0*sin(psi) - 2*sqrt(b**2 - r_0**2*sin(psi)**2))/b)/(r_0*sin(psi)) - I*log((2*I*r_0*sin(psi) - 2*sqrt(-r_0**2*sin(psi)**2 + r_0**2))/r_0)/(r_0*sin(psi)) + 2*I*(log(2) + I*pi/2)/(r_0*sin(psi))"
      ]
     },
     "execution_count": 3,
     "metadata": {},
     "output_type": "execute_result"
    }
   ],
   "source": [
    "b = sym.Symbol('b', nonnegative=True)\n",
    "pigrand = (igral.subs(r, r_0) + igral.subs(r, b) - 2*igral.subs(r, a)).subs(a, r_0*sym.sin(psi))\n",
    "pigrand"
   ]
  },
  {
   "cell_type": "markdown",
   "metadata": {},
   "source": [
    "This is getting slighty out of hand, but we (computers) can handle it. In fact, we (computers) can probably simplify it, but life is too short, as we mentioned. Okay, that's a result, we can move on now... If it weren't the case that"
   ]
  },
  {
   "cell_type": "code",
   "execution_count": 4,
   "metadata": {},
   "outputs": [
    {
     "data": {
      "text/latex": [
       "$\\displaystyle \\infty \\operatorname{sign}{\\left(\\frac{1}{r_{0}} \\right)}$"
      ],
      "text/plain": [
       "oo*sign(1/r_0)"
      ]
     },
     "execution_count": 4,
     "metadata": {},
     "output_type": "execute_result"
    }
   ],
   "source": [
    "pigrand.limit(psi, 0)"
   ]
  },
  {
   "cell_type": "markdown",
   "metadata": {},
   "source": [
    "$\\text{d}J/\\text{d}\\Omega$ diverges when the line of sight passes through the Galactic centre. It was about time we opened our eyes to the divergence of the density that we've been ignoring all this time. Normally, we would deal with it by integrating over some volume, and so we wouldn't mind a singularity as long as the divergence were slower than $1/r^3$, i.e. we would simply want the mass to be finite.\n",
    "\n",
    "*Fun fact: the NFW profile still manages to sneak in an infinite amount of matter by \"not dying\" quickly enough at infinity: there you need to be quicker than $1/r^3$, which N,F,&W merely reach, which means their haloes have a logarithmically infinte mass.*\n",
    "\n",
    "Back to interacting dark matter: the useful quantity for a central line of sight is in fact $\\text{d}J$ instead of it's celestial density. The area element is, as usual $\\text{d}\\Omega = \\sin\\psi \\text{d}\\psi \\text{d}\\psi$, in polar coordinates with the direction towards the Galactic centre as the pole. Then the lattitude $\\psi$ becomes a polar angle, and $\\phi$ acts as an azimuthal coordinate circling the Galactic centre. Because of the axial symmetry (the spherical symmetry of the halo is broken by propping an observer in a certain \"special\" direction), none of the quantities depend on the \"azimuth\", so it can be integrted directly, if we are (we are, indeed) considering a circular region around the Galactic centre:\n",
    "$$\\text{d}j = 2\\pi \\sin\\psi \\int\\limits_{l=0}^{l=b} \\frac{\\text{d}r}{r(1+r)^4\\sqrt{r^2-r_0^2\\sin^2\\psi}} \\text{d}\\psi.$$\n",
    "\n",
    "We pray that this is finite at the origin, or at least very slowly divergent, so that even the differential $\\text{d}\\psi$ can counter it. Let's see"
   ]
  },
  {
   "cell_type": "code",
   "execution_count": 5,
   "metadata": {},
   "outputs": [
    {
     "data": {
      "text/latex": [
       "$\\displaystyle \\frac{2 \\pi^{2}}{r_{0}}$"
      ],
      "text/plain": [
       "2*pi**2/r_0"
      ]
     },
     "execution_count": 5,
     "metadata": {},
     "output_type": "execute_result"
    }
   ],
   "source": [
    "(2*sym.pi * sym.sin(psi) * pigrand).limit(psi, 0)"
   ]
  },
  {
   "cell_type": "markdown",
   "metadata": {},
   "source": [
    "Well, that's a relief!! Now that we know that (the important) things won't blow up, we can move on. But before that, last bit of fun: let's plot the analytical solution for $\\text{d}j/\\text{d}\\psi$:"
   ]
  },
  {
   "cell_type": "code",
   "execution_count": 6,
   "metadata": {
    "scrolled": true
   },
   "outputs": [
    {
     "name": "stderr",
     "output_type": "stream",
     "text": [
      "/usr/local/lib/python3.7/site-packages/numpy/core/numeric.py:538: ComplexWarning: Casting complex values to real discards the imaginary part\n",
      "  return array(a, dtype, copy=False, order=order)\n"
     ]
    },
    {
     "data": {
      "image/png": "[encoded data removed]",
      "text/plain": [
       "<Figure size 432x288 with 1 Axes>"
      ]
     },
     "metadata": {
      "needs_background": "light"
     },
     "output_type": "display_data"
    }
   ],
   "source": [
    "import numpy as np\n",
    "%matplotlib inline\n",
    "from matplotlib_import import *\n",
    "\n",
    "def plot(x, y, hline=None):\n",
    "    fig, ax = plt.subplots()\n",
    "    ax.semilogx(x, y)\n",
    "    ax.set_xlim(1/206265, np.pi)\n",
    "    ax.xaxis.set_ticks((np.pi, np.pi/2, np.deg2rad(10), np.deg2rad(1), np.deg2rad(0.5), np.deg2rad(1/60), np.deg2rad(1/3600)))\n",
    "    ax.xaxis.set_ticklabels((r'    $180°$', r'$90°$  ', r'$10°$', r'  $1°$', r'$0°5$  ', '$1\\'$', '$1\\'\\'$'))\n",
    "    ax.set_xlabel('$\\psi$')\n",
    "    if hline is not None:\n",
    "        ax.hlines(hline, *ax.get_xlim(), linestyles='--', linewidths=1)\n",
    "    return fig, ax\n",
    "    \n",
    "\n",
    "PSI_ = np.logspace(-np.log10(206265), np.log10(np.pi/2), 101)  # from 1'' to 90°\n",
    "\n",
    "fig, ax = plot(PSI_, sym.lambdify((psi, r_0, b), (2*sym.pi * sym.sin(psi) * pigrand))(PSI_+0j, 0.474+0j, 1e6+0j),\n",
    "               2*np.pi**2/0.474)\n",
    "ax.set_ylim(0, 45)\n",
    "ax.set_ylabel(r'$\\mathrm{d}j / \\mathrm{d}\\psi$')\n",
    "fig.tight_layout()"
   ]
  },
  {
   "cell_type": "markdown",
   "metadata": {},
   "source": [
    "We used a *very big number*<sup>tm</sup> for $b$ instead of $\\infty$ because the limit is not obvious, and `sympy` takes an insufferable amount of time to find it (or not, don't know, didn't have the patience). We know it exists, however, because we are simply integrating a quickly decaying $\\rho^2 \\propto 1/r^6$ without any additional volume factors. Mathematica found the limit in $\\approx$ 10s.\n",
    "\n",
    "The final task at hand would be to perform the $\\psi$-integral. `sympy` has no chance with it, but even Mathematica gave up after putting in a significant amount of thought, so we (a computer) will need to go the old-fashioned way and crunch some numbers."
   ]
  },
  {
   "cell_type": "markdown",
   "metadata": {},
   "source": [
    "### Part 2. The Same, but Numerically"
   ]
  },
  {
   "cell_type": "markdown",
   "metadata": {},
   "source": [
    "In our theoretical treatment we made a choice: less square roots in exchange for weird boundaries and cases depending on the value of $\\psi$. From a numerical viewpoint, though, square roots are fine ([but some are finer than others](https://www.codeproject.com/Articles/69941/Best-Square-Root-Method-Algorithm-Function-Precisi)), while cases are annoying, so now we will take another approach: we will substitute for $r$ from the cosine rule into the expression for $\\rho^2$ and integrate along $l$."
   ]
  },
  {
   "cell_type": "code",
   "execution_count": 7,
   "metadata": {
    "pycharm": {
     "is_executing": false,
     "name": "#%%\n"
    }
   },
   "outputs": [],
   "source": [
    "l = sym.Symbol(\"l\", nonnegative=True)\n",
    "r2 = r_0**2 + l**2 - 2*sym.cos(psi)*r_0*l\n",
    "rho = (1 / (r * (1+r)**2)).subs(r, sym.sqrt(r2))\n",
    "rho2_func = sym.lambdify((l, psi, r_0), rho**2, \"numpy\")"
   ]
  },
  {
   "cell_type": "markdown",
   "metadata": {},
   "source": [
    "Because we asked in class, and because we know that *weird things*<sup>tm</sup> happen with the NFW density at infinity (so it is certainly physically inapplicable beyond the virialization radius, which region was probably not considered for the original fits anyway), we will extend the integral only up to $r=r_{\\text{vir}}$. To determine the corresponding value for $l(r_{\\text{vir}})$, we don't even need to remember a formula from eight grade!:"
   ]
  },
  {
   "cell_type": "code",
   "execution_count": 8,
   "metadata": {
    "pycharm": {
     "is_executing": false
    },
    "scrolled": true
   },
   "outputs": [
    {
     "data": {
      "text/plain": [
       "[r_0*cos(psi) - sqrt(r**2 - r_0**2*sin(psi)**2),\n",
       " r_0*cos(psi) + sqrt(r**2 - r_0**2*sin(psi)**2)]"
      ]
     },
     "execution_count": 8,
     "metadata": {},
     "output_type": "execute_result"
    }
   ],
   "source": [
    "l_sol = sym.solve(sym.Eq(r2, r**2), l)\n",
    "l_sol"
   ]
  },
  {
   "cell_type": "markdown",
   "metadata": {},
   "source": [
    "That's not $\\LaTeX$-ed because there are two solutions (we should have at least remembered that!). To pick the \"correct\" one, we will need to assume that $r_0 < r_{\\text{vir}}$, i.e. that the observer is inside the halo. Then the virial radius will be \"higher\" than the observer, and all the more so than $r_0\\cos\\psi$, so we need to select the solution with a positive sign."
   ]
  },
  {
   "cell_type": "code",
   "execution_count": 9,
   "metadata": {},
   "outputs": [],
   "source": [
    "l_solp = sym.lambdify((r, psi, r_0), l_sol[1])  # positive vibes only (r)"
   ]
  },
  {
   "cell_type": "markdown",
   "metadata": {},
   "source": [
    "### Part 1: A Physical Aside\n",
    "\n",
    "Dimensionless quantities can only take is so far. It's time we related the scale density and radius to observable properties like the halo mass and the critical density of the universe (definitely *observable*). With units (and comsological parameters), courtesy of `astropy`!"
   ]
  },
  {
   "cell_type": "code",
   "execution_count": 10,
   "metadata": {
    "pycharm": {
     "is_executing": false
    }
   },
   "outputs": [],
   "source": [
    "from astropy import units\n",
    "from astropy import constants as C\n",
    "from astropy.cosmology import Planck15 as cosmo"
   ]
  },
  {
   "cell_type": "markdown",
   "metadata": {},
   "source": [
    "Because *everyone seems to be doing it*<sup>®</sup>, we will adopt a virialization radius such that the average halo density is $\\Delta=200$ times the critical density.\n",
    "\n",
    "**TODO: Get the values for the mass and concentration**"
   ]
  },
  {
   "cell_type": "code",
   "execution_count": 11,
   "metadata": {
    "pycharm": {
     "is_executing": false,
     "name": "#%%\n"
    }
   },
   "outputs": [],
   "source": [
    "Delta = 200\n",
    "c = 10\n",
    "M = 1e12 * units.M_sun\n",
    "R_0 = 10 * units.kpc\n",
    "\n",
    "r_200 = (M / ((4/3)*np.pi * Delta*cosmo.critical_density0))**(1/3)\n",
    "r_s = r_200/c\n",
    "rho_s = (Delta * c**3 / (np.log(1+c) - c/(1+c))) * cosmo.critical_density0\n",
    "\n",
    "r_o = (R_0 / r_s).to('').value\n",
    "J_0 = (rho_s * r_s * C.c**2).to('GeV / cm^2')"
   ]
  },
  {
   "cell_type": "code",
   "execution_count": 12,
   "metadata": {
    "pycharm": {
     "is_executing": false
    }
   },
   "outputs": [],
   "source": [
    "from scipy.integrate import quad, dblquad\n",
    "\n",
    "@np.vectorize\n",
    "def djdO(psi, r_0, c, **kwargs):\n",
    "    return quad(rho2_func, 0, l_solp(c, psi, r_0), (psi, r_0), **kwargs)"
   ]
  },
  {
   "cell_type": "code",
   "execution_count": 13,
   "metadata": {},
   "outputs": [
    {
     "name": "stderr",
     "output_type": "stream",
     "text": [
      "/usr/local/lib/python3.7/site-packages/ipykernel_launcher.py:5: IntegrationWarning: The occurrence of roundoff error is detected, which prevents \n",
      "  the requested tolerance from being achieved.  The error may be \n",
      "  underestimated.\n",
      "  \"\"\"\n"
     ]
    }
   ],
   "source": [
    "PSI = np.logspace(-np.log10(206265), np.log10(np.pi), 1001)\n",
    "y, yerr = djdO(PSI, r_o, c,\n",
    "               epsabs=1e-12, epsrel=1e-12, limit=100)"
   ]
  },
  {
   "cell_type": "code",
   "execution_count": 14,
   "metadata": {
    "pycharm": {
     "is_executing": false,
     "name": "#%%\n"
    },
    "scrolled": false
   },
   "outputs": [
    {
     "data": {
      "image/png": "[encoded data removed]",
      "text/plain": [
       "<Figure size 432x288 with 1 Axes>"
      ]
     },
     "metadata": {
      "needs_background": "light"
     },
     "output_type": "display_data"
    }
   ],
   "source": [
    "fig, ax = plot(PSI, J_0*y)\n",
    "ax.set_yscale('log')\n",
    "ax.set_ylim(3e21, 3e27)\n",
    "ax.set_xlim(PSI[0]*60, PSI[-1])\n",
    "ax.set_ylabel(r'$\\mathrm{d}J / \\mathrm{d}\\Omega$, '+J_0.unit.to_string('latex_inline'))\n",
    "fig.tight_layout()"
   ]
  },
  {
   "cell_type": "code",
   "execution_count": 15,
   "metadata": {},
   "outputs": [
    {
     "data": {
      "image/png": "[encoded data removed]",
      "text/plain": [
       "<Figure size 432x288 with 1 Axes>"
      ]
     },
     "metadata": {
      "needs_background": "light"
     },
     "output_type": "display_data"
    }
   ],
   "source": [
    "z = 2*np.pi * np.sin(PSI) * y\n",
    "fig, ax = plot(PSI, z, 2*np.pi**2/r_o)\n",
    "ax.set_ylim(0, 45)\n",
    "ax.set_ylabel(r'$\\mathrm{d}j / \\mathrm{d}\\psi$')\n",
    "fig.tight_layout()"
   ]
  },
  {
   "cell_type": "code",
   "execution_count": 16,
   "metadata": {
    "scrolled": true
   },
   "outputs": [
    {
     "name": "stderr",
     "output_type": "stream",
     "text": [
      "/usr/local/lib/python3.7/site-packages/ipykernel_launcher.py:5: IntegrationWarning: The maximum number of subdivisions (50) has been achieved.\n",
      "  If increasing the limit yields no improvement it is advised to analyze \n",
      "  the integrand in order to determine the difficulties.  If the position of a \n",
      "  local difficulty can be determined (singularity, discontinuity) one will \n",
      "  probably gain from splitting up the interval and calling the integrator \n",
      "  on the subranges.  Perhaps a special-purpose integrator should be used.\n",
      "  \"\"\"\n",
      "/usr/local/lib/python3.7/site-packages/ipykernel_launcher.py:5: IntegrationWarning: The occurrence of roundoff error is detected, which prevents \n",
      "  the requested tolerance from being achieved.  The error may be \n",
      "  underestimated.\n",
      "  \"\"\"\n",
      "/usr/local/lib/python3.7/site-packages/ipykernel_launcher.py:5: IntegrationWarning: The algorithm does not converge.  Roundoff error is detected\n",
      "  in the extrapolation table.  It is assumed that the requested tolerance\n",
      "  cannot be achieved, and that the returned result (if full_output = 1) is \n",
      "  the best which can be obtained.\n",
      "  \"\"\"\n"
     ]
    }
   ],
   "source": [
    "psi0 = np.deg2rad(0.5)\n",
    "j0, j0err = quad(lambda psi: 2*np.pi*np.sin(psi) * djdO(psi, r_o, c)[0], 0, psi0)"
   ]
  },
  {
   "cell_type": "code",
   "execution_count": 17,
   "metadata": {
    "scrolled": false
   },
   "outputs": [
    {
     "data": {
      "image/png": "[encoded data removed]",
      "text/plain": [
       "<Figure size 432x288 with 1 Axes>"
      ]
     },
     "metadata": {
      "needs_background": "light"
     },
     "output_type": "display_data"
    }
   ],
   "source": [
    "# integral as a sum:\n",
    "zi = (PSI[0]*z[0] + np.hstack((0, np.cumsum((PSI[1:]-PSI[:-1]) * (z[1:] + z[:-1]) / 2))))\n",
    "\n",
    "fig, ax = plot(PSI, J_0*zi)\n",
    "ax.set_yscale('log')\n",
    "ax.set_ylim(3e18, 3e24)\n",
    "ax.hlines(j0*J_0.value, plt.xlim()[0], psi0, linestyles='--', linewidths=1)\n",
    "ax.vlines(psi0, 3e18, j0*J_0.value, linestyles='--', linewidths=1)\n",
    "ax.set_ylabel(r'$\\int_0^\\psi \\mathrm{d}J$, '+J_0.unit.to_string('latex_inline'))\n",
    "fig.tight_layout()"
   ]
  },
  {
   "cell_type": "raw",
   "metadata": {},
   "source": [
    "j(np.deg2rad(0.5), r_o, c)"
   ]
  },
  {
   "cell_type": "raw",
   "metadata": {},
   "source": [
    "@np.vectorize\n",
    "def j(psi0, r_0, c, **kwargs):\n",
    "    return quad(lambda psi: 2*np.pi*np.sin(psi) * djdO(psi, r_0, c)[0], 0, psi0, **kwargs)\n",
    "\n",
    "@np.vectorize\n",
    "def j2(psi0, r_0, c, **kwargs):\n",
    "    return dblquad(lambda l, psi: 2*np.pi*np.sin(psi) * rho2_func(l, psi, r_0), \n",
    "                   0, psi0, 0, 100, **kwargs)"
   ]
  },
  {
   "cell_type": "raw",
   "metadata": {},
   "source": [
    "PSI1 = np.deg2rad((1/2, 1, 2, 5, 10))\n",
    "%timeit z, zerr = j2(PSI, r_o, c)"
   ]
  }
 ],
 "metadata": {
  "kernelspec": {
   "display_name": "Python 3",
   "language": "python",
   "name": "python3"
  },
  "language_info": {
   "codemirror_mode": {
    "name": "ipython",
    "version": 3
   },
   "file_extension": ".py",
   "mimetype": "text/x-python",
   "name": "python",
   "nbconvert_exporter": "python",
   "pygments_lexer": "ipython3",
   "version": "3.7.3"
  },
  "pycharm": {
   "stem_cell": {
    "cell_type": "raw",
    "metadata": {
     "collapsed": false
    },
    "source": []
   }
  }
 },
 "nbformat": 4,
 "nbformat_minor": 2
}
