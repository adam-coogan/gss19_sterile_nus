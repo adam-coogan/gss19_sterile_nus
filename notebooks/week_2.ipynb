{
 "cells": [
  {
   "cell_type": "code",
   "execution_count": 56,
   "metadata": {},
   "outputs": [],
   "source": [
    "import numpy as np\n",
    "from scipy.integrate import solve_ivp\n",
    "from scipy.interpolate import interp1d, interp2d\n",
    "from scipy.optimize import root\n",
    "from scipy.special import zeta\n",
    "from scipy.integrate import quad\n",
    "from astropy import constants as C\n",
    "from astropy import units\n",
    "from astropy.cosmology import Planck15 as cosmo\n",
    "import matplotlib as mpl\n",
    "import matplotlib.pyplot as plt\n",
    "import sympy as sym\n",
    "plt.rcParams['font.family'] = 'serif'\n",
    "plt.rcParams['font.size'] = plt.rcParams['axes.labelsize'] = plt.rcParams['xtick.labelsize'] = plt.rcParams['ytick.labelsize'] = 12\n",
    "plt.rcParams['mathtext.fontset'] = 'dejavuserif'"
   ]
  },
  {
   "cell_type": "code",
   "execution_count": 79,
   "metadata": {},
   "outputs": [
    {
     "name": "stdout",
     "output_type": "stream",
     "text": [
      "1/((sqrt(l**2 - 2*l*r_0*cos(theta) + r_0**2) + 1)**2*sqrt(l**2 - 2*l*r_0*cos(theta) + r_0**2))\n"
     ]
    }
   ],
   "source": [
    "r, theta, r_0, l = sym.symbols(\"r, theta, r_0, l\")\n",
    "r2=r_0**2+l**2-2*sym.cos(theta)*r_0*l\n",
    "rho=(1/((r)*(r+1)**2)).subs(r, sym.sqrt(r2))\n",
    "print(rho)"
   ]
  },
  {
   "cell_type": "code",
   "execution_count": 80,
   "metadata": {},
   "outputs": [
    {
     "data": {
      "text/plain": [
       "0.00018234388796246925"
      ]
     },
     "execution_count": 80,
     "metadata": {},
     "output_type": "execute_result"
    }
   ],
   "source": [
    "rho2_func=sym.lambdify((l, theta, r_0), rho**2, \"numpy\")\n",
    "rho2_func(1, 1, 4)"
   ]
  },
  {
   "cell_type": "code",
   "execution_count": 81,
   "metadata": {},
   "outputs": [],
   "source": [
    "c=10\n",
    "M=10**12*units.M_sun\n",
    "r_200=(3*M/(4*np.pi*200*cosmo.critical_density0))**(1/3)\n",
    "r_s=r_200/c\n",
    "rho_s=M/(4*np.pi*r_s**3*(np.log(1+c)-c/(1+c)))"
   ]
  },
  {
   "cell_type": "code",
   "execution_count": 82,
   "metadata": {},
   "outputs": [
    {
     "data": {
      "text/plain": [
       "10.347301436246616"
      ]
     },
     "execution_count": 82,
     "metadata": {},
     "output_type": "execute_result"
    }
   ],
   "source": [
    "l_sol=sym.solve(sym.Eq(r2, r**2), l)\n",
    "l_solm=sym.lambdify((r, theta, r_0),l_sol[0])\n",
    "l_solp=sym.lambdify((r, theta, r_0),l_sol[1])\n",
    "theta45=np.deg2rad(45)\n",
    "r_0val=0.5\n",
    "l_solp(c,theta45,0.5)"
   ]
  },
  {
   "cell_type": "code",
   "execution_count": 83,
   "metadata": {},
   "outputs": [
    {
     "data": {
      "text/plain": [
       "[r_0*cos(theta) - sqrt(r**2 - r_0**2*sin(theta)**2),\n",
       " r_0*cos(theta) + sqrt(r**2 - r_0**2*sin(theta)**2)]"
      ]
     },
     "execution_count": 83,
     "metadata": {},
     "output_type": "execute_result"
    }
   ],
   "source": [
    "l_sol"
   ]
  },
  {
   "cell_type": "code",
   "execution_count": 90,
   "metadata": {},
   "outputs": [
    {
     "data": {
      "text/plain": [
       "(1.3564160184039207, 1.0886978035618782e-08)"
      ]
     },
     "execution_count": 90,
     "metadata": {},
     "output_type": "execute_result"
    }
   ],
   "source": [
    "quad(rho2_func, 0, l_solp(c, 0, r_0val), (theta45, r_0val))"
   ]
  },
  {
   "cell_type": "code",
   "execution_count": 107,
   "metadata": {},
   "outputs": [
    {
     "name": "stderr",
     "output_type": "stream",
     "text": [
      "C:\\Users\\rafac\\Anaconda3\\lib\\site-packages\\ipykernel_launcher.py:3: IntegrationWarning: The integral is probably divergent, or slowly convergent.\n",
      "  This is separate from the ipykernel package so we can avoid doing imports until\n",
      "C:\\Users\\rafac\\Anaconda3\\lib\\site-packages\\ipykernel_launcher.py:3: IntegrationWarning: The algorithm does not converge.  Roundoff error is detected\n",
      "  in the extrapolation table.  It is assumed that the requested tolerance\n",
      "  cannot be achieved, and that the returned result (if full_output = 1) is \n",
      "  the best which can be obtained.\n",
      "  This is separate from the ipykernel package so we can avoid doing imports until\n"
     ]
    }
   ],
   "source": [
    "@np.vectorize\n",
    "def dJdO(theta, r_0, c):\n",
    "    return quad(rho2_func, 0, l_solp(c,theta,r_0), (theta, r_0))[0]\n",
    "dJdO(theta45,r_0val, c)\n",
    "theta_max=np.deg2rad(0.5)\n",
    "quad(lambda theta: 2*np.pi*np.sin(theta)*dJdO(theta, r_0val, c), 0, theta_max)"
   ]
  },
  {
   "cell_type": "code",
   "execution_count": 117,
   "metadata": {},
   "outputs": [],
   "source": [
    "@np.vectorize\n",
    "def J(theta_max, r_0, c):\n",
    "    return quad(lambda theta: 2*np.pi*np.sin(theta)*dJdO(theta, r_0val, c), 0, theta_max)[0]\n",
    "#J(np.deg2rad(0.01), r_0val, c)"
   ]
  },
  {
   "cell_type": "code",
   "execution_count": 119,
   "metadata": {},
   "outputs": [
    {
     "name": "stderr",
     "output_type": "stream",
     "text": [
      "C:\\Users\\rafac\\Anaconda3\\lib\\site-packages\\ipykernel_launcher.py:3: IntegrationWarning: The integral is probably divergent, or slowly convergent.\n",
      "  This is separate from the ipykernel package so we can avoid doing imports until\n",
      "C:\\Users\\rafac\\Anaconda3\\lib\\site-packages\\ipykernel_launcher.py:3: IntegrationWarning: The algorithm does not converge.  Roundoff error is detected\n",
      "  in the extrapolation table.  It is assumed that the requested tolerance\n",
      "  cannot be achieved, and that the returned result (if full_output = 1) is \n",
      "  the best which can be obtained.\n",
      "  This is separate from the ipykernel package so we can avoid doing imports until\n"
     ]
    },
    {
     "data": {
      "text/plain": [
       "[<matplotlib.lines.Line2D at 0x1ee431f8d68>]"
      ]
     },
     "execution_count": 119,
     "metadata": {},
     "output_type": "execute_result"
    },
    {
     "data": {
      "image/png": "[encoded data removed]",
      "text/plain": [
       "<Figure size 432x288 with 1 Axes>"
      ]
     },
     "metadata": {
      "needs_background": "light"
     },
     "output_type": "display_data"
    }
   ],
   "source": [
    "theta2=np.linspace(0.01, np.deg2rad(10), 10)\n",
    "plt.plot(theta2, J(theta2, r_0val, c))"
   ]
  },
  {
   "cell_type": "code",
   "execution_count": 114,
   "metadata": {
    "scrolled": true
   },
   "outputs": [
    {
     "name": "stdout",
     "output_type": "stream",
     "text": [
      "62755.59809272977\n"
     ]
    },
    {
     "data": {
      "image/png": "[encoded data removed]",
      "text/plain": [
       "<Figure size 432x288 with 1 Axes>"
      ]
     },
     "metadata": {
      "needs_background": "light"
     },
     "output_type": "display_data"
    }
   ],
   "source": [
    "theta1=np.linspace(1e-4, np.pi, 100)\n",
    "plt.plot(theta1, dJdO(theta1, r_0val, c))\n",
    "\n",
    "arr = dJdO(theta1, r_0val, c)\n",
    "print(arr[0])"
   ]
  },
  {
   "cell_type": "code",
   "execution_count": 101,
   "metadata": {},
   "outputs": [
    {
     "data": {
      "text/plain": [
       "(62755.59809272977, 7.63327807634502e-05)"
      ]
     },
     "execution_count": 101,
     "metadata": {},
     "output_type": "execute_result"
    }
   ],
   "source": [
    "quad(rho2_func, 0, l_solp(c,1e-4,r_0val), (1e-4, r_0val))"
   ]
  },
  {
   "cell_type": "code",
   "execution_count": null,
   "metadata": {},
   "outputs": [],
   "source": []
  }
 ],
 "metadata": {
  "kernelspec": {
   "display_name": "Python 3",
   "language": "python",
   "name": "python3"
  },
  "language_info": {
   "codemirror_mode": {
    "name": "ipython",
    "version": 3
   },
   "file_extension": ".py",
   "mimetype": "text/x-python",
   "name": "python",
   "nbconvert_exporter": "python",
   "pygments_lexer": "ipython3",
   "version": "3.7.3"
  }
 },
 "nbformat": 4,
 "nbformat_minor": 2
}
