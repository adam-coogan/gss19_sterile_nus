{
 "cells": [
  {
   "cell_type": "markdown",
   "metadata": {},
   "source": [
    "# GRAPPA Student Seminar 2019: Sterile Neutrinos group"
   ]
  },
  {
   "cell_type": "markdown",
   "metadata": {},
   "source": [
    "## Week 1 - Script"
   ]
  },
  {
   "cell_type": "code",
   "execution_count": 1,
   "metadata": {
    "pycharm": {
     "is_executing": false
    }
   },
   "outputs": [],
   "source": [
    "import numpy as np\n",
    "from scipy.integrate import solve_ivp\n",
    "from scipy.interpolate import interp1d\n",
    "from scipy.optimize import root\n",
    "from scipy.special import zeta\n",
    "from astropy import constants as C\n",
    "from astropy import units\n",
    "from astropy.cosmology import Planck15 as cosmo\n",
    "import matplotlib.pyplot as plt"
   ]
  },
  {
   "cell_type": "markdown",
   "metadata": {},
   "source": [
    "We will be working in mass units, so define some constants in $\\mathrm{GeV}$ (that's not even a mass unit, btw...):"
   ]
  },
  {
   "cell_type": "code",
   "execution_count": 2,
   "metadata": {
    "pycharm": {
     "is_executing": false,
     "name": "#%%\n"
    }
   },
   "outputs": [],
   "source": [
    "Mp = (np.sqrt(C.hbar*C.c/(8*np.pi*C.G)) * C.c**2).to(units.GeV)\n",
    "T0 = (C.k_B * cosmo.Tcmb0).to(units.GeV)\n",
    "rho0 = (cosmo.critical_density0 * C.hbar**3 * C.c**5).to(units.GeV**4)"
   ]
  },
  {
   "cell_type": "markdown",
   "metadata": {},
   "source": [
    "Define the grid of masses and cross-sections that we will be calculating the abundance for. These are logarithmically spaced."
   ]
  },
  {
   "cell_type": "code",
   "execution_count": 3,
   "metadata": {
    "pycharm": {
     "is_executing": false,
     "name": "#%%\n"
    }
   },
   "outputs": [],
   "source": [
    "m_edges = np.linspace(-12, 3, 201) \n",
    "sigma_edges = np.linspace(-12, -6, 201) \n",
    "m = np.power(10, 0.5*(m_edges[1:]+m_edges[:-1])) * units.GeV\n",
    "sigma = np.power(10, 0.5*(sigma_edges[1:]+sigma_edges[:-1])) * units.GeV**(-2)\n",
    "g = 1\n",
    "\n",
    "def plot(Odm):\n",
    "    plt.pcolormesh(m_edges, sigma_edges, np.log10(Odm))\n",
    "    plt.xlabel('$m$')\n",
    "    plt.ylabel(r'$\\left\\langle{\\sigma v}\\right\\rangle_{fo}, \\mathrm{GeV}^{-2}$')\n",
    "    plt.xticks((-12, -9, -6, -3, 0, 3), (r'$\\mathrm{meV}$', r'$\\mathrm{eV}$', r'$\\mathrm{keV}$', r'$\\mathrm{MeV}$', r'$\\mathrm{GeV}$', r'$\\mathrm{TeV}$'))\n",
    "    plt.colorbar()"
   ]
  },
  {
   "cell_type": "markdown",
   "metadata": {},
   "source": [
    "### Part 1: Instantaneous freeze-out"
   ]
  },
  {
   "cell_type": "markdown",
   "metadata": {},
   "source": [
    "#### a. Relativistic (hot) dark matter"
   ]
  },
  {
   "cell_type": "markdown",
   "metadata": {},
   "source": [
    "The number density of a relativistic species is given by\n",
    "$$n = \\frac{\\zeta(3)}{\\pi^2} g T^3,$$\n",
    "where $\\zeta(3) \\approx 1.202$ is Apéry's constant, and $g$ is its number of degrees of freedom (including a factor of $3/4$ for a fermionic species). We will combine the constants into a single number and write $n=\\mathcal{N}T^3$. Because of the simple $T^3$ dependence of the number density, relativistic species redshift in the same way regardless of whether they are in thermal equilibrium ($n \\propto T^3$), or not ($n \\propto a^{-3} \\propto T_{\\gamma}^3$, with $T_\\gamma$ the photon temperature), and so we can simply estimate their present number density as $n = \\mathcal{N} T_0^3$. Therefore, their present-day abundance is simply\n",
    "$$\\Omega_{\\textrm{HDM}, 0} = \\frac{n m}{\\rho_c} = \\frac{\\zeta(3)}{\\pi^2} \\frac{T_0^3}{\\rho_c} gm.$$\n",
    "Note that it does not depend on the reaction cross-section since, as mentioned, it does not matter whether the DM particles react (are in thermal equilibrium) or not. Also note that $T_0$ is *their* present temperature. In calculations, though, we will be using the CMB (photon) temperature. A difference between the two can be present if another species remained in equilibrium with the photons after the dark matter decoupled and subsequently annihilated (as in the case of $e^+/e^-$, which led to a factor $11/4$ increase in $T_\\gamma^3$ post-neutrino decoupling due to the electron-positron annihilation heat)."
   ]
  },
  {
   "cell_type": "code",
   "execution_count": 4,
   "metadata": {
    "pycharm": {
     "is_executing": false,
     "name": "#%%\n"
    }
   },
   "outputs": [
    {
     "data": {
      "text/plain": "<matplotlib.collections.LineCollection at 0x119315390>"
     },
     "metadata": {},
     "output_type": "execute_result",
     "execution_count": 4
    },
    {
     "data": {
      "text/plain": "<Figure size 432x288 with 2 Axes>",
      "image/png": "[encoded data removed]"
     },
     "metadata": {
      "needs_background": "light"
     },
     "output_type": "display_data"
    }
   ],
   "source": [
    "Ohdm0 = ((zeta(3)/np.pi**2) * (T0**3 / rho0) * g * m).to('').value\n",
    "plot(np.broadcast_to(Ohdm0, np.broadcast(m[None, :], sigma[:, None]).shape))\n",
    "plt.vlines(np.log10((cosmo.Odm0 * (np.pi**2 / zeta(3)) * (rho0 / T0**3) / g).to('GeV').value),\n",
    "           sigma_edges[0], sigma_edges[-1], colors='r')"
   ]
  },
  {
   "cell_type": "markdown",
   "metadata": {},
   "source": [
    "The red line in the above plot indicates the mass that fits the Planck 2015 result of $\\Omega_{\\textrm{DM}, 0} = 0.26$."
   ]
  },
  {
   "cell_type": "markdown",
   "metadata": {},
   "source": [
    "#### b. Non-relativistic (cold) dark matter"
   ]
  },
  {
   "cell_type": "markdown",
   "metadata": {},
   "source": [
    "For a non-relativistic (cold: $m>T$) species, the number density derives from the classical Maxwell-Boltzmann distribution:\n",
    "$$n = g \\left(\\frac{mT}{2\\pi}\\right)^{3/2} \\textrm{e}^{-m/T}.$$\n",
    "Here $g$ is the number of classical degrees of freedom (no additional factors for spin statistics). Equating the reaction rate that results from such a number density $\\Gamma = n\\sigma v$ to the Hubble parameter $H = T^2 / M_p$ at the time of decoupling (freeze-out):\n",
    "$$n_{fo} \\left\\langle\\sigma v\\right\\rangle_{fo} = \\frac{T_{fo}^2}{M_p} \\quad\\implies\\quad g \\left(\\frac{mT_{fo}}{2\\pi}\\right)^{3/2} \\textrm{e}^{-m/T} = \\frac{T_{fo}^2}{M_p \\left\\langle\\sigma v\\right\\rangle_{fo}},$$\n",
    "which can be rearranged and expressed in terms of the dimensionless variable $x\\equiv m/T$:\n",
    "$$\\sqrt{x_{fo}}\\textrm{e}^{-x_{fo}} = \\frac{\\left(2\\pi\\right)^{3/2}}{g} \\frac{1}{M_p m \\left\\langle\\sigma v\\right\\rangle_{fo}} \\equiv A.$$\n",
    "This transcendental equation can be solved numerically for all values $A < 1/\\sqrt{2\\textrm{e}}$ of the right-hand-side. In fact, there are two solutions: one smaller and one larger than $x=1/2$, corresponding to the location of the maximum of the LHS. Furthermore, we are interested only in the case of a cold particle for which $x>1$, so we further restrict the possible values to $A<1/\\textrm{e}$.\n",
    "\n",
    "Once we have $x_{fo}$, we can calculate the present-day abundance using the formula from the lecture notes\n",
    "$$\\Omega_{\\textrm{CDM}, 0} = \\frac{T_0^3}{\\rho_c M_p} \\frac{x_{fo}}{\\left\\langle\\sigma v\\right\\rangle_{fo}}.$$"
   ]
  },
  {
   "cell_type": "code",
   "execution_count": 5,
   "metadata": {
    "pycharm": {
     "is_executing": false,
     "name": "#%%\n"
    }
   },
   "outputs": [],
   "source": [
    "A = (((2*np.pi)**(3/2) / g) / (Mp * m[None, :] * sigma[:, None])).to('').value\n",
    "\n",
    "# One-liner, 'cause Python:\n",
    "x_fo = np.vectorize(lambda a:\n",
    "                        np.nan\n",
    "                        if a > np.exp(-1)\n",
    "                        else root(lambda x: np.sqrt(x)*np.exp(-x)-a, 1).x\n",
    "                    )(A)\n",
    "Ocdm0 = (T0**3 / (rho0 * Mp)) * x_fo / sigma[:, None]"
   ]
  },
  {
   "cell_type": "code",
   "execution_count": 6,
   "metadata": {
    "pycharm": {
     "is_executing": false,
     "name": "#%%\n"
    }
   },
   "outputs": [
    {
     "data": {
      "text/plain": "[<matplotlib.lines.Line2D at 0x11bbc14a8>]"
     },
     "metadata": {},
     "output_type": "execute_result",
     "execution_count": 6
    },
    {
     "data": {
      "text/plain": "<Figure size 432x288 with 2 Axes>",
      "image/png": "[encoded data removed]"
     },
     "metadata": {
      "needs_background": "light"
     },
     "output_type": "display_data"
    }
   ],
   "source": [
    "plot(Ocdm0)\n",
    "\n",
    "good = []\n",
    "diff = Ocdm0 - cosmo.Odm0\n",
    "diff[np.isnan(diff)] = np.inf\n",
    "initial_guesses = sigma[np.nanargmin(np.abs(diff), axis=0)]\n",
    "for i in range(Ocdm0.shape[1]):\n",
    "    ipol = interp1d(sigma, Ocdm0[:, i], kind='linear', bounds_error=False)\n",
    "    res = root(lambda x: ipol(x) - cosmo.Odm0, initial_guesses[i])\n",
    "    good.append(res.x[0] if res.success else np.nan)\n",
    "plt.plot(np.log10(m.value), np.log10(good), 'r-')"
   ]
  },
  {
   "cell_type": "markdown",
   "metadata": {},
   "source": [
    "In the plot above the blank area is the region where $A>1/\\textrm{e}$, while the red line again connects parametes that give $\\Omega_{\\textrm{DM}, 0} = 0.26$.\n",
    "\n",
    "TODO: explain \"How does it scale with these variables?\""
   ]
  },
  {
   "cell_type": "markdown",
   "metadata": {
    "pycharm": {
     "is_executing": false,
     "name": "#%% md\n"
    }
   },
   "source": [
    "### Part 2: Gradual cold dark matter freeze-out\n"
   ]
  },
  {
   "cell_type": "markdown",
   "metadata": {},
   "source": [
    "We wish to solve the Riccati equation\n",
    "\\begin{align}\n",
    "    \\frac{\\textrm{d}Y}{\\textrm{d}x} = \\frac{s \\left\\langle\\sigma v\\right\\rangle}{Hx} \\left[1 + \\frac{1}{3}\\frac{\\textrm{d}\\ln{g_s}}{\\textrm{d}\\ln{T}}\\right] \\left[Y_{\\textrm{eq}}^2 - Y^2\\right]\n",
    "    & = \\left(M_p \\left\\langle\\sigma v\\right\\rangle m\\right) \\frac{s}{m^3} x \\left[\\left(\\frac{n_{\\textrm{eq}}}{m^3} \\frac{m^3}{s}\\right)^2 - Y^2\\right] \\left[1 + \\frac{1}{3}\\frac{\\textrm{d}\\ln{g_s}}{\\textrm{d}\\ln{T}}\\right]\n",
    "    \\\\ & \\textrm{with} \\qquad \\frac{s}{m^3} = \\frac{2\\pi^2}{45} \\frac{g_s}{x^3}\n",
    "    \\qquad \\textrm{and} \\qquad \\frac{n_{\\textrm{eq}}}{m^3} = \\frac{g}{\\left(2\\pi\\right)^{3/2}} \\frac{\\textrm{e}^{-x}}{x^{3/2}}\n",
    "\\end{align}\n",
    "subject to the initial condition $Y(x=1) = Y_{\\textrm{eq}}(x=1)$. Instead, however, for greatly improved numerical performance, we will solve for $\\textrm{d}\\ln{Y} / \\textrm{d}\\ln{x}$ by introducing an additional factor $x/Y$ to the RHS."
   ]
  },
  {
   "cell_type": "code",
   "execution_count": 18,
   "metadata": {
    "pycharm": {
     "is_executing": false
    }
   },
   "outputs": [],
   "source": [
    "def neq_overm3(x, g=1):\n",
    "    return (g / (2 * np.pi * x)**(3/2)) * np.exp(-x)\n",
    "def s_overm3(x, gs):\n",
    "    return (2*np.pi**2/45) * gs / x**3\n",
    "def Yeq(x, gs, g=1):\n",
    "    return neq_overm3(x, g) / s_overm3(x, gs)\n",
    "\n",
    "T_data, gsm_data = np.loadtxt('week_1_g.csv', delimiter=',', unpack=True)\n",
    "gsm = interp1d(T_data*units.GeV, gsm_data, fill_value='extrapolate')\n",
    "\n",
    "Tmid_data = (T_data[:-1]+T_data[1:])/2\n",
    "lngsmderiv_data = np.diff(np.log(gsm_data)) / np.diff(np.log(T_data))\n",
    "lngsmderiv = interp1d(Tmid_data*units.GeV, lngsmderiv_data, fill_value='extrapolate')\n",
    "\n",
    "def Riccati(x, y, m, A, g=1):\n",
    "    s = s_overm3(x, gsm(m/x))\n",
    "    return A * s * x * ((neq_overm3(x, g)/s)**2 - y**2) * (1 + lngsmderiv(m/x) / 3)"
   ]
  },
  {
   "cell_type": "code",
   "execution_count": 19,
   "metadata": {
    "pycharm": {
     "is_executing": false
    }
   },
   "outputs": [],
   "source": [
    "m = 100*units.GeV"
   ]
  },
  {
   "cell_type": "code",
   "execution_count": 20,
   "metadata": {
    "pycharm": {
     "is_executing": false,
     "name": "#%%\n"
    }
   },
   "outputs": [
    {
     "name": "stderr",
     "text": [
      "/usr/local/lib/python3.7/site-packages/ipykernel_launcher.py:16: RuntimeWarning: divide by zero encountered in log10\n  app.launch_new_instance()\n"
     ],
     "output_type": "stream"
    },
    {
     "data": {
      "text/plain": "(-20, 5)"
     },
     "metadata": {},
     "output_type": "execute_result",
     "execution_count": 20
    },
    {
     "data": {
      "text/plain": "<Figure size 432x288 with 1 Axes>",
      "image/png": "[encoded data removed]"
     },
     "metadata": {
      "needs_background": "light"
     },
     "output_type": "display_data"
    }
   ],
   "source": [
    "log10xmax = 3\n",
    "y0 = Yeq(1, gsm(m))\n",
    "for sexp in (-26, -21, -15):\n",
    "    sigma = 2*10**sexp * (units.cm**3/units.s)/C.c\n",
    "    sigma = (sigma/(C.hbar*C.c)**2).to(units.GeV**(-2))\n",
    "    sol = solve_ivp(lambda logx, logy:\n",
    "                        Riccati(np.exp(logx), np.exp(logy),\n",
    "                                m, Mp*m*sigma)\n",
    "                        * np.exp(logx-logy),\n",
    "                    (0, log10xmax*np.log(10)), [np.log(y0)],\n",
    "                    method='BDF')\n",
    "    plt.plot(sol.t/np.log(10), 2 + sol.y[0]/np.log(10)-np.log10(y0))\n",
    "plt.plot(np.linspace(0, 5, 101),\n",
    "         2 + np.log10(Yeq(np.logspace(0, 5, 101),\n",
    "                          gsm(m / np.logspace(0, 5, 101)))\n",
    "                      / y0))\n",
    "plt.ylim(-20, 5)"
   ]
  },
  {
   "cell_type": "code",
   "execution_count": 16,
   "metadata": {
    "pycharm": {
     "name": "#%%\n",
     "is_executing": false
    }
   },
   "outputs": [
    {
     "data": {
      "text/plain": "[<matplotlib.lines.Line2D at 0x109520780>]"
     },
     "metadata": {},
     "output_type": "execute_result",
     "execution_count": 16
    },
    {
     "data": {
      "text/plain": "<Figure size 432x288 with 1 Axes>",
      "image/png": "[encoded data removed]"
     },
     "metadata": {
      "needs_background": "light"
     },
     "output_type": "display_data"
    }
   ],
   "source": [
    "plt.semilogx(T_data, gsm_data)"
   ]
  },
  {
   "cell_type": "code",
   "execution_count": 17,
   "outputs": [
    {
     "data": {
      "text/plain": "[<matplotlib.lines.Line2D at 0x11e7e3240>]"
     },
     "metadata": {},
     "output_type": "execute_result",
     "execution_count": 17
    },
    {
     "data": {
      "text/plain": "<Figure size 432x288 with 1 Axes>",
      "image/png": "[encoded data removed]"
     },
     "metadata": {
      "needs_background": "light"
     },
     "output_type": "display_data"
    }
   ],
   "source": [
    "plt.semilogx(Tmid_data, lngsmderiv_data)"
   ],
   "metadata": {
    "collapsed": false,
    "pycharm": {
     "name": "#%%\n",
     "is_executing": false
    }
   }
  },
  {
   "cell_type": "code",
   "execution_count": null,
   "outputs": [],
   "source": [
    "\n"
   ],
   "metadata": {
    "collapsed": false,
    "pycharm": {
     "name": "#%%\n"
    }
   }
  }
 ],
 "metadata": {
  "kernelspec": {
   "display_name": "Python 3",
   "language": "python",
   "name": "python3"
  },
  "language_info": {
   "codemirror_mode": {
    "name": "ipython",
    "version": 3
   },
   "file_extension": ".py",
   "mimetype": "text/x-python",
   "name": "python",
   "nbconvert_exporter": "python",
   "pygments_lexer": "ipython3",
   "version": "3.7.3"
  },
  "pycharm": {
   "stem_cell": {
    "cell_type": "raw",
    "source": [],
    "metadata": {
     "collapsed": false
    }
   }
  }
 },
 "nbformat": 4,
 "nbformat_minor": 2
}