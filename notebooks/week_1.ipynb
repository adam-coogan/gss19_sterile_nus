{
 "cells": [
  {
   "cell_type": "code",
   "execution_count": 14,
   "metadata": {},
   "outputs": [],
   "source": [
    "import numpy as np\n",
    "import matplotlib.pyplot as plt\n",
    "from astropy import constants as C\n",
    "from astropy import units\n",
    "from scipy.optimize import root\n",
    "from scipy.special import lambertw as W\n",
    "import scipy.optimize as spopt"
   ]
  },
  {
   "cell_type": "code",
   "execution_count": 39,
   "metadata": {},
   "outputs": [
    {
     "name": "stdout",
     "output_type": "stream",
     "text": [
      "(2.552802064324e-24-0j) 28.84336531091868 28.843365310919793\n"
     ]
    },
    {
     "data": {
      "text/plain": [
       "<matplotlib.colorbar.Colorbar at 0x7fd4ec8f1978>"
      ]
     },
     "execution_count": 39,
     "metadata": {},
     "output_type": "execute_result"
    },
    {
     "data": {
      "image/png": "[encoded data removed]",
      "text/plain": [
       "<Figure size 432x288 with 2 Axes>"
      ]
     },
     "metadata": {
      "needs_background": "light"
     },
     "output_type": "display_data"
    }
   ],
   "source": [
    "#x = np.linspace()\n",
    "\n",
    "Mp = (np.sqrt(C.hbar*C.c/(8*np.pi*C.G))*C.c**2).to('GeV')\n",
    "m = 100*units.GeV\n",
    "sigma = 3*10**(-26) * (units.cm**3/units.s)/C.c\n",
    "sigma_GeV = (sigma/(C.hbar*C.c)**2).to(units.GeV**(-2))\n",
    "\n",
    "def func(x, A):\n",
    "    return np.exp(-x) - A*x**(-1/2)\n",
    "\n",
    "@np.vectorize\n",
    "def solver(a):\n",
    "    if a>1/np.sqrt(2*np.exp(1))-1e-3:\n",
    "        return np.nan\n",
    "    \n",
    "    return spopt.bisect(func, 1, 1/a, args=a)\n",
    "\n",
    "A = (1/(m*Mp*sigma_GeV)).to('').value\n",
    "\n",
    "#x_f0 = root(func, 1, A).x\n",
    "x_f0 = spopt.bisect(func, 1, 100, args=A)\n",
    "print(-1/2* W(-2*A**2), solver(A), x_f0)\n",
    "\n",
    "m = np.logspace(-9, 3, 50)[:, None] * units.GeV\n",
    "s = np.logspace(-10, -6, 50)[None, :] * units.GeV**(-2)\n",
    "A2 = (1/(m*Mp*s)).to('').value\n",
    "#x_f0 = -1/2* W(-2*A2**2).real\n",
    "# x_f0 = root(func, np.full_like(A2, 20).ravel(), A2.ravel()).x.reshape(A2.shape)\n",
    "\n",
    "x_f0 = solver(A2)\n",
    "\n",
    "omega = 0.2*(x_f0/20)*(10**(-8)*units.GeV**-2/s)\n",
    "plt.pcolormesh(np.log10(m[:, 0].value), np.log10(s[0, :].value), np.log10(omega.T))\n",
    "\n",
    "plt.colorbar()"
   ]
  },
  {
   "cell_type": "code",
   "execution_count": null,
   "metadata": {},
   "outputs": [],
   "source": [
    "plt.pcolormesh(np.log10(m[:, 0].value), np.log10(s[0, :].value), (x_f0.T))\n",
    "\n",
    "plt.colorbar()"
   ]
  },
  {
   "cell_type": "code",
   "execution_count": null,
   "metadata": {},
   "outputs": [],
   "source": [
    "print(x_f0)"
   ]
  },
  {
   "cell_type": "code",
   "execution_count": null,
   "metadata": {},
   "outputs": [],
   "source": [
    "sigma_GeV"
   ]
  },
  {
   "cell_type": "code",
   "execution_count": 11,
   "metadata": {},
   "outputs": [
    {
     "data": {
      "text/latex": [
       "$0.25681895 \\; \\mathrm{\\frac{1}{GeV^{2}}}$"
      ],
      "text/plain": [
       "<Quantity 0.25681895 1 / GeV2>"
      ]
     },
     "execution_count": 11,
     "metadata": {},
     "output_type": "execute_result"
    }
   ],
   "source": [
    "((1e-28*units.cm**2)/(C.hbar*C.c)**2).to(units.GeV**(-2))"
   ]
  },
  {
   "cell_type": "code",
   "execution_count": null,
   "metadata": {},
   "outputs": [],
   "source": []
  }
 ],
 "metadata": {
  "kernelspec": {
   "display_name": "Python 3",
   "language": "python",
   "name": "python3"
  },
  "language_info": {
   "codemirror_mode": {
    "name": "ipython",
    "version": 3
   },
   "file_extension": ".py",
   "mimetype": "text/x-python",
   "name": "python",
   "nbconvert_exporter": "python",
   "pygments_lexer": "ipython3",
   "version": "3.5.2"
  }
 },
 "nbformat": 4,
 "nbformat_minor": 2
}
