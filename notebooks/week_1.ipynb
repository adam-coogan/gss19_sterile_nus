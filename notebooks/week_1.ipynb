{
 "cells": [
  {
   "cell_type": "markdown",
   "metadata": {},
   "source": [
    "# GRAPPA Student Seminar 2019: Sterile Neutrinos group"
   ]
  },
  {
   "cell_type": "markdown",
   "metadata": {},
   "source": [
    "## Week 1 - Script"
   ]
  },
  {
   "cell_type": "code",
   "execution_count": 33,
   "metadata": {
    "pycharm": {
     "is_executing": false
    }
   },
   "outputs": [],
   "source": [
    "import numpy as np\n",
    "from scipy.integrate import solve_ivp\n",
    "from scipy.interpolate import interp1d, interp2d\n",
    "from scipy.optimize import root\n",
    "from scipy.special import zeta\n",
    "from astropy import constants as C\n",
    "from astropy import units\n",
    "from astropy.cosmology import Planck15 as cosmo\n",
    "import matplotlib.pyplot as plt"
   ]
  },
  {
   "cell_type": "markdown",
   "metadata": {},
   "source": [
    "We will be working in mass units, so define some constants in $\\mathrm{GeV}$ (that's not even a mass unit, btw...):"
   ]
  },
  {
   "cell_type": "code",
   "execution_count": 2,
   "metadata": {
    "pycharm": {
     "is_executing": false,
     "name": "#%%\n"
    }
   },
   "outputs": [],
   "source": [
    "Mp = (np.sqrt(C.hbar*C.c/(8*np.pi*C.G)) * C.c**2).to(units.GeV)\n",
    "T0 = (C.k_B * cosmo.Tcmb0).to(units.GeV)\n",
    "rho0 = (cosmo.critical_density0 * C.hbar**3 * C.c**5).to(units.GeV**4)"
   ]
  },
  {
   "cell_type": "markdown",
   "metadata": {},
   "source": [
    "Define the grid of masses and cross-sections that we will be calculating the abundance for. These are logarithmically spaced."
   ]
  },
  {
   "cell_type": "code",
   "execution_count": 32,
   "metadata": {
    "pycharm": {
     "is_executing": false,
     "name": "#%%\n"
    }
   },
   "outputs": [],
   "source": [
    "m_edges = np.linspace(-12, 3, 201) \n",
    "sigma_edges = np.linspace(-12, -6, 201) \n",
    "m = np.power(10, 0.5*(m_edges[1:]+m_edges[:-1])) * units.GeV\n",
    "sigma = np.power(10, 0.5*(sigma_edges[1:]+sigma_edges[:-1])) * units.GeV**(-2)\n",
    "g = 1\n",
    "\n",
    "def plot(Odm):\n",
    "    plt.pcolormesh(m_edges, sigma_edges, np.log10(Odm))\n",
    "    plt.xlabel('$m$')\n",
    "    plt.ylabel(r'$\\left\\langle{\\sigma v}\\right\\rangle_{fo}, \\mathrm{GeV}^{-2}$')\n",
    "    plt.xticks((-12, -9, -6, -3, 0, 3), (r'$\\mathrm{meV}$', r'$\\mathrm{eV}$', r'$\\mathrm{keV}$', r'$\\mathrm{MeV}$', r'$\\mathrm{GeV}$', r'$\\mathrm{TeV}$'))\n",
    "    plt.colorbar()"
   ]
  },
  {
   "cell_type": "markdown",
   "metadata": {},
   "source": [
    "### Part 1: Instantaneous freeze-out"
   ]
  },
  {
   "cell_type": "markdown",
   "metadata": {},
   "source": [
    "#### a. Relativistic (hot) dark matter"
   ]
  },
  {
   "cell_type": "markdown",
   "metadata": {},
   "source": [
    "The number density of a relativistic species is given by\n",
    "$$n = \\frac{\\zeta(3)}{\\pi^2} g T^3,$$\n",
    "where $\\zeta(3) \\approx 1.202$ is Apéry's constant, and $g$ is its number of degrees of freedom (including a factor of $3/4$ for a fermionic species). We will combine the constants into a single number and write $n=\\mathcal{N}T^3$. Because of the simple $T^3$ dependence of the number density, relativistic species redshift in the same way regardless of whether they are in thermal equilibrium ($n \\propto T^3$), or not ($n \\propto a^{-3} \\propto T_{\\gamma}^3$, with $T_\\gamma$ the photon temperature), and so we can simply estimate their present number density as $n = \\mathcal{N} T_0^3$. Therefore, their present-day abundance is simply\n",
    "$$\\Omega_{\\textrm{HDM}, 0} = \\frac{n m}{\\rho_c} = \\frac{\\zeta(3)}{\\pi^2} \\frac{T_0^3}{\\rho_c} gm.$$\n",
    "Note that it does not depend on the reaction cross-section since, as mentioned, it does not matter whether the DM particles react (are in thermal equilibrium) or not. Also note that $T_0$ is *their* present temperature. In calculations, though, we will be using the CMB (photon) temperature. A difference between the two can be present if another species remained in equilibrium with the photons after the dark matter decoupled and subsequently annihilated (as in the case of $e^+/e^-$, which led to a factor $11/4$ increase in $T_\\gamma^3$ post-neutrino decoupling due to the electron-positron annihilation heat)."
   ]
  },
  {
   "cell_type": "code",
   "execution_count": 4,
   "metadata": {
    "pycharm": {
     "is_executing": false,
     "name": "#%%\n"
    }
   },
   "outputs": [
    {
     "data": {
      "text/plain": [
       "<matplotlib.collections.LineCollection at 0x21db7b3c748>"
      ]
     },
     "execution_count": 4,
     "metadata": {},
     "output_type": "execute_result"
    },
    {
     "data": {
      "image/png": "[encoded data removed]",
      "text/plain": [
       "<Figure size 432x288 with 2 Axes>"
      ]
     },
     "metadata": {
      "needs_background": "light"
     },
     "output_type": "display_data"
    }
   ],
   "source": [
    "Ohdm0 = ((zeta(3)/np.pi**2) * (T0**3 / rho0) * g * m).to('').value\n",
    "plot(np.broadcast_to(Ohdm0, np.broadcast(m[None, :], sigma[:, None]).shape))\n",
    "plt.vlines(np.log10((cosmo.Odm0 * (np.pi**2 / zeta(3)) * (rho0 / T0**3) / g).to('GeV').value),\n",
    "           sigma_edges[0], sigma_edges[-1], colors='r')"
   ]
  },
  {
   "cell_type": "markdown",
   "metadata": {},
   "source": [
    "The red line in the above plot indicates the mass that fits the Planck 2015 result of $\\Omega_{\\textrm{DM}, 0} = 0.26$."
   ]
  },
  {
   "cell_type": "markdown",
   "metadata": {},
   "source": [
    "#### b. Non-relativistic (cold) dark matter"
   ]
  },
  {
   "cell_type": "markdown",
   "metadata": {},
   "source": [
    "For a non-relativistic (cold: $m>T$) species, the number density derives from the classical Maxwell-Boltzmann distribution:\n",
    "$$n = g \\left(\\frac{mT}{2\\pi}\\right)^{3/2} \\textrm{e}^{-m/T}.$$\n",
    "Here $g$ is the number of classical degrees of freedom (no additional factors for spin statistics). Equating the reaction rate that results from such a number density $\\Gamma = n\\sigma v$ to the Hubble parameter $H = T^2 / M_p$ at the time of decoupling (freeze-out):\n",
    "$$n_{fo} \\left\\langle\\sigma v\\right\\rangle_{fo} = \\frac{T_{fo}^2}{M_p} \\quad\\implies\\quad g \\left(\\frac{mT_{fo}}{2\\pi}\\right)^{3/2} \\textrm{e}^{-m/T} = \\frac{T_{fo}^2}{M_p \\left\\langle\\sigma v\\right\\rangle_{fo}},$$\n",
    "which can be rearranged and expressed in terms of the dimensionless variable $x\\equiv m/T$:\n",
    "$$\\sqrt{x_{fo}}\\textrm{e}^{-x_{fo}} = \\frac{\\left(2\\pi\\right)^{3/2}}{g} \\frac{1}{M_p m \\left\\langle\\sigma v\\right\\rangle_{fo}} \\equiv A.$$\n",
    "This transcendental equation can be solved numerically for all values $A < 1/\\sqrt{2\\textrm{e}}$ of the right-hand-side. In fact, there are two solutions: one smaller and one larger than $x=1/2$, corresponding to the location of the maximum of the LHS. Furthermore, we are interested only in the case of a cold particle for which $x>1$, so we further restrict the possible values to $A<1/\\textrm{e}$.\n",
    "\n",
    "Once we have $x_{fo}$, we can calculate the present-day abundance using the formula from the lecture notes\n",
    "$$\\Omega_{\\textrm{CDM}, 0} = \\frac{T_0^3}{\\rho_c M_p} \\frac{x_{fo}}{\\left\\langle\\sigma v\\right\\rangle_{fo}}.$$"
   ]
  },
  {
   "cell_type": "code",
   "execution_count": 5,
   "metadata": {
    "pycharm": {
     "is_executing": false,
     "name": "#%%\n"
    }
   },
   "outputs": [],
   "source": [
    "A = (((2*np.pi)**(3/2) / g) / (Mp * m[None, :] * sigma[:, None])).to('').value\n",
    "\n",
    "# One-liner, 'cause Python:\n",
    "x_fo = np.vectorize(lambda a:\n",
    "                        np.nan\n",
    "                        if a > np.exp(-1)\n",
    "                        else root(lambda x: np.sqrt(x)*np.exp(-x)-a, 1).x\n",
    "                    )(A)\n",
    "Ocdm0 = (T0**3 / (rho0 * Mp)) * x_fo / sigma[:, None]"
   ]
  },
  {
   "cell_type": "code",
   "execution_count": 6,
   "metadata": {
    "pycharm": {
     "is_executing": false,
     "name": "#%%\n"
    }
   },
   "outputs": [
    {
     "name": "stderr",
     "output_type": "stream",
     "text": [
      "C:\\Users\\rafac\\Anaconda3\\lib\\site-packages\\scipy\\interpolate\\interpolate.py:688: RuntimeWarning: invalid value encountered in less\n",
      "  below_bounds = x_new < self.x[0]\n",
      "C:\\Users\\rafac\\Anaconda3\\lib\\site-packages\\scipy\\interpolate\\interpolate.py:689: RuntimeWarning: invalid value encountered in greater\n",
      "  above_bounds = x_new > self.x[-1]\n"
     ]
    },
    {
     "data": {
      "text/plain": [
       "[<matplotlib.lines.Line2D at 0x21db7d76358>]"
      ]
     },
     "execution_count": 6,
     "metadata": {},
     "output_type": "execute_result"
    },
    {
     "data": {
      "image/png": "[encoded data removed]",
      "text/plain": [
       "<Figure size 432x288 with 2 Axes>"
      ]
     },
     "metadata": {
      "needs_background": "light"
     },
     "output_type": "display_data"
    }
   ],
   "source": [
    "plot(Ocdm0)\n",
    "\n",
    "good = []\n",
    "diff = Ocdm0 - cosmo.Odm0\n",
    "diff[np.isnan(diff)] = np.inf\n",
    "initial_guesses = sigma[np.nanargmin(np.abs(diff), axis=0)]\n",
    "for i in range(Ocdm0.shape[1]):\n",
    "    ipol = interp1d(sigma, Ocdm0[:, i], kind='linear', bounds_error=False)\n",
    "    res = root(lambda x: ipol(x) - cosmo.Odm0, initial_guesses[i])\n",
    "    good.append(res.x[0] if res.success else np.nan)\n",
    "plt.plot(np.log10(m.value), np.log10(good), 'r-')"
   ]
  },
  {
   "cell_type": "markdown",
   "metadata": {},
   "source": [
    "In the plot above the blank area is the region where $A>1/\\textrm{e}$, while the red line again connects parametes that give $\\Omega_{\\textrm{DM}, 0} = 0.26$.\n",
    "\n",
    "TODO: explain \"How does it scale with these variables?\""
   ]
  },
  {
   "cell_type": "markdown",
   "metadata": {
    "pycharm": {
     "is_executing": false,
     "name": "#%% md\n"
    }
   },
   "source": [
    "### Part 2: Gradual cold dark matter freeze-out\n"
   ]
  },
  {
   "cell_type": "markdown",
   "metadata": {},
   "source": [
    "We wish to solve the Riccati equation\n",
    "\\begin{align}\n",
    "    \\frac{\\textrm{d}Y}{\\textrm{d}x} = \\frac{s \\left\\langle\\sigma v\\right\\rangle}{Hx} \\left[1 + \\frac{1}{3}\\frac{\\textrm{d}\\ln{g_s}}{\\textrm{d}\\ln{T}}\\right] \\left[Y_{\\textrm{eq}}^2 - Y^2\\right]\n",
    "    & = \\left(M_p \\left\\langle\\sigma v\\right\\rangle m\\right) \\frac{s}{m^3} x \\left[\\left(\\frac{n_{\\textrm{eq}}}{m^3} \\frac{m^3}{s}\\right)^2 - Y^2\\right] \\left[1 + \\frac{1}{3}\\frac{\\textrm{d}\\ln{g_s}}{\\textrm{d}\\ln{T}}\\right]\n",
    "    \\\\ & \\textrm{with} \\qquad \\frac{s}{m^3} = \\frac{2\\pi^2}{45} \\frac{g_s}{x^3}\n",
    "    \\qquad \\textrm{and} \\qquad \\frac{n_{\\textrm{eq}}}{m^3} = \\frac{g}{\\left(2\\pi\\right)^{3/2}} \\frac{\\textrm{e}^{-x}}{x^{3/2}}\n",
    "\\end{align}\n",
    "subject to the initial condition $Y(x=1) = Y_{\\textrm{eq}}(x=1)$. Instead, however, for greatly improved numerical performance, we will solve for $\\textrm{d}\\ln{Y} / \\textrm{d}\\ln{x}$ by introducing an additional factor $x/Y$ to the RHS."
   ]
  },
  {
   "cell_type": "code",
   "execution_count": 7,
   "metadata": {
    "pycharm": {
     "is_executing": false
    }
   },
   "outputs": [],
   "source": [
    "def neq_overm3(x, g=1):\n",
    "    return (g / (2 * np.pi * x)**(3/2)) * np.exp(-x)\n",
    "def s_overm3(x, gs):\n",
    "    return (2*np.pi**2/45) * gs / x**3\n",
    "def Yeq(x, gs, g=1):\n",
    "    return neq_overm3(x, g) / s_overm3(x, gs)\n",
    "\n",
    "T_data, gsm_data = np.loadtxt('week_1_g.csv', delimiter=',', unpack=True)\n",
    "gsm = interp1d(T_data*units.GeV, gsm_data, fill_value='extrapolate')\n",
    "\n",
    "Tmid_data = (T_data[:-1]+T_data[1:])/2\n",
    "lngsmderiv_data = np.diff(np.log(gsm_data)) / np.diff(np.log(T_data))\n",
    "lngsmderiv = interp1d(Tmid_data*units.GeV, lngsmderiv_data, fill_value='extrapolate')\n",
    "\n",
    "def Riccati(x, y, m, A, g=1):\n",
    "    s = s_overm3(x, gsm(m/x))\n",
    "    return A * s * x * ((neq_overm3(x, g)/s)**2 - y**2) * (1 + lngsmderiv(m/x) / 3)"
   ]
  },
  {
   "cell_type": "code",
   "execution_count": 30,
   "metadata": {
    "pycharm": {
     "is_executing": false
    }
   },
   "outputs": [],
   "source": [
    "m1 = 100*units.GeV"
   ]
  },
  {
   "cell_type": "code",
   "execution_count": 39,
   "metadata": {
    "pycharm": {
     "is_executing": false,
     "name": "#%%\n"
    }
   },
   "outputs": [
    {
     "name": "stdout",
     "output_type": "stream",
     "text": [
      "1.7133116169166635e-09 1 / GeV2\n",
      "0.0001713311616916663 1 / GeV2\n",
      "171.33116169166635 1 / GeV2\n",
      "[1.03514217e-12 1.10917482e-12 1.18850223e-12 1.27350308e-12\n",
      " 1.36458314e-12 1.46217717e-12 1.56675107e-12 1.67880402e-12\n",
      " 1.79887092e-12 1.92752491e-12 2.06538016e-12 2.21309471e-12\n",
      " 2.37137371e-12 2.54097271e-12 2.72270131e-12 2.91742701e-12\n",
      " 3.12607937e-12 3.34965439e-12 3.58921935e-12 3.84591782e-12\n",
      " 4.12097519e-12 4.41570447e-12 4.73151259e-12 5.06990708e-12\n",
      " 5.43250331e-12 5.82103218e-12 6.23734835e-12 6.68343918e-12\n",
      " 7.16143410e-12 7.67361489e-12 8.22242650e-12 8.81048873e-12\n",
      " 9.44060876e-12 1.01157945e-11 1.08392691e-11 1.16144861e-11\n",
      " 1.24451461e-11 1.33352143e-11 1.42889396e-11 1.53108746e-11\n",
      " 1.64058977e-11 1.75792361e-11 1.88364909e-11 2.01836636e-11\n",
      " 2.16271852e-11 2.31739465e-11 2.48313311e-11 2.66072506e-11\n",
      " 2.85101827e-11 3.05492111e-11 3.27340695e-11 3.50751874e-11\n",
      " 3.75837404e-11 4.02717034e-11 4.31519077e-11 4.62381021e-11\n",
      " 4.95450191e-11 5.30884444e-11 5.68852931e-11 6.09536897e-11\n",
      " 6.53130553e-11 6.99841996e-11 7.49894209e-11 8.03526122e-11\n",
      " 8.60993752e-11 9.22571427e-11 9.88553095e-11 1.05925373e-10\n",
      " 1.13501082e-10 1.21618600e-10 1.30316678e-10 1.39636836e-10\n",
      " 1.49623566e-10 1.60324539e-10 1.71790839e-10 1.84077200e-10\n",
      " 1.97242274e-10 2.11348904e-10 2.26464431e-10 2.42661010e-10\n",
      " 2.60015956e-10 2.78612117e-10 2.98538262e-10 3.19889511e-10\n",
      " 3.42767787e-10 3.67282300e-10 3.93550075e-10 4.21696503e-10\n",
      " 4.51855944e-10 4.84172368e-10 5.18800039e-10 5.55904257e-10\n",
      " 5.95662144e-10 6.38263486e-10 6.83911647e-10 7.32824533e-10\n",
      " 7.85235635e-10 8.41395142e-10 9.01571138e-10 9.66050879e-10\n",
      " 1.03514217e-09 1.10917482e-09 1.18850223e-09 1.27350308e-09\n",
      " 1.36458314e-09 1.46217717e-09 1.56675107e-09 1.67880402e-09\n",
      " 1.79887092e-09 1.92752491e-09 2.06538016e-09 2.21309471e-09\n",
      " 2.37137371e-09 2.54097271e-09 2.72270131e-09 2.91742701e-09\n",
      " 3.12607937e-09 3.34965439e-09 3.58921935e-09 3.84591782e-09\n",
      " 4.12097519e-09 4.41570447e-09 4.73151259e-09 5.06990708e-09\n",
      " 5.43250331e-09 5.82103218e-09 6.23734835e-09 6.68343918e-09\n",
      " 7.16143410e-09 7.67361489e-09 8.22242650e-09 8.81048873e-09\n",
      " 9.44060876e-09 1.01157945e-08 1.08392691e-08 1.16144861e-08\n",
      " 1.24451461e-08 1.33352143e-08 1.42889396e-08 1.53108746e-08\n",
      " 1.64058977e-08 1.75792361e-08 1.88364909e-08 2.01836636e-08\n",
      " 2.16271852e-08 2.31739465e-08 2.48313311e-08 2.66072506e-08\n",
      " 2.85101827e-08 3.05492111e-08 3.27340695e-08 3.50751874e-08\n",
      " 3.75837404e-08 4.02717034e-08 4.31519077e-08 4.62381021e-08\n",
      " 4.95450191e-08 5.30884444e-08 5.68852931e-08 6.09536897e-08\n",
      " 6.53130553e-08 6.99841996e-08 7.49894209e-08 8.03526122e-08\n",
      " 8.60993752e-08 9.22571427e-08 9.88553095e-08 1.05925373e-07\n",
      " 1.13501082e-07 1.21618600e-07 1.30316678e-07 1.39636836e-07\n",
      " 1.49623566e-07 1.60324539e-07 1.71790839e-07 1.84077200e-07\n",
      " 1.97242274e-07 2.11348904e-07 2.26464431e-07 2.42661010e-07\n",
      " 2.60015956e-07 2.78612117e-07 2.98538262e-07 3.19889511e-07\n",
      " 3.42767787e-07 3.67282300e-07 3.93550075e-07 4.21696503e-07\n",
      " 4.51855944e-07 4.84172368e-07 5.18800039e-07 5.55904257e-07\n",
      " 5.95662144e-07 6.38263486e-07 6.83911647e-07 7.32824533e-07\n",
      " 7.85235635e-07 8.41395142e-07 9.01571138e-07 9.66050879e-07] 1 / GeV2\n"
     ]
    },
    {
     "name": "stderr",
     "output_type": "stream",
     "text": [
      "C:\\Users\\rafac\\Anaconda3\\lib\\site-packages\\ipykernel_launcher.py:22: RuntimeWarning: divide by zero encountered in log10\n"
     ]
    },
    {
     "data": {
      "text/plain": [
       "(-20, 5)"
      ]
     },
     "execution_count": 39,
     "metadata": {},
     "output_type": "execute_result"
    },
    {
     "data": {
      "image/png": "[encoded data removed]",
      "text/plain": [
       "<Figure size 432x288 with 1 Axes>"
      ]
     },
     "metadata": {
      "needs_background": "light"
     },
     "output_type": "display_data"
    }
   ],
   "source": [
    "log10xmax = 3\n",
    "y0 = Yeq(1, gsm(m1))\n",
    "\n",
    "xinterpr = interp2d(m, sigma, x_fo)\n",
    "\n",
    "for sexp in (-26, -21, -15):\n",
    "    sigma1 = 2*10**sexp * (units.cm**3/units.s)/C.c\n",
    "    sigma1 = (sigma1/(C.hbar*C.c)**2).to(units.GeV**(-2))\n",
    "    sol = solve_ivp(lambda logx, logy:\n",
    "                        Riccati(np.exp(logx), np.exp(logy),\n",
    "                                m1, Mp*m1*sigma1)\n",
    "                        * np.exp(logx-logy),\n",
    "                    (0, log10xmax*np.log(10)), [np.log(y0)],\n",
    "                    method='BDF')\n",
    "    plt.plot(sol.t/np.log(10), 2 + sol.y[0]/np.log(10)-np.log10(y0))\n",
    "    plt.vlines(np.log10(xinterpr(m1,sigma1)),-20,5)\n",
    "    print(sigma1)\n",
    "plt.plot(np.linspace(0, 5, 101),\n",
    "         2 + np.log10(Yeq(np.logspace(0, 5, 101),\n",
    "                          gsm(m1 / np.logspace(0, 5, 101)))\n",
    "                      / y0))\n",
    "plt.ylim(-20, 5)"
   ]
  },
  {
   "cell_type": "code",
   "execution_count": 21,
   "metadata": {},
   "outputs": [],
   "source": [
    "m_edges = np.linspace(-12, 3, 11) \n",
    "sigma_edges = np.linspace(-12, -6, 11) \n",
    "m = np.power(10, 0.5*(m_edges[1:]+m_edges[:-1])) * units.GeV\n",
    "sigma = np.power(10, 0.5*(sigma_edges[1:]+sigma_edges[:-1])) * units.GeV**(-2)\n",
    "g = 1\n",
    "@np.vectorize\n",
    "def whatever(m,sigma, logxfinal, logy0):\n",
    "    sol = solve_ivp(lambda logx, logy:\n",
    "                        Riccati(np.exp(logx), np.exp(logy),\n",
    "                                m, Mp*m*sigma)\n",
    "                        * np.exp(logx-logy),\n",
    "                    (0, logxfinal*np.log(10)), [logy0],\n",
    "                    method='BDF')\n",
    "    return sol.y[0,-1]\n",
    "\n",
    "plotvar = whatever(m.value[None, :], sigma.value[:, None], 3, Yeq(1, gsm(m)))\n",
    "\n"
   ]
  },
  {
   "cell_type": "code",
   "execution_count": 28,
   "metadata": {},
   "outputs": [
    {
     "name": "stdout",
     "output_type": "stream",
     "text": [
      "[[8.85137225e-03 2.78842259e-01 7.87063561e+00 5.67342785e+01\n",
      "  7.36223209e+01 2.29495014e+02 4.49260768e+02 6.82176798e+02\n",
      "  2.04037509e+02 1.43487359e+02]\n",
      " [8.84808328e-03 2.75618326e-01 5.91588441e+00 1.68087207e+01\n",
      "  2.61245021e+01 7.82975857e+01 1.36320427e+02 1.89112612e+02\n",
      "  5.95849403e+01 3.94051002e+01]\n",
      " [8.83507891e-03 2.63468717e-01 2.97648850e+00 4.47210173e+00\n",
      "  1.18073074e+01 2.54775185e+01 4.02176663e+01 5.35985112e+01\n",
      "  1.71126457e+01 1.07913124e+01]\n",
      " [8.78347445e-03 2.24136422e-01 9.99773922e-01 1.28304804e+00\n",
      "  4.24824935e+00 7.82502238e+00 1.16803606e+01 1.48734960e+01\n",
      "  4.68446910e+00 2.93679918e+00]\n",
      " [8.58364540e-03 1.40587353e-01 2.75640510e-01 5.66553603e-01\n",
      "  1.48376752e+00 2.35395966e+00 3.26390837e+00 4.14672282e+00\n",
      "  1.43498220e+00 7.77911276e-01]\n",
      " [7.87063565e-03 5.67343326e-02 7.36247900e-02 2.29584611e-01\n",
      "  4.49257281e-01 6.79805431e-01 9.14616295e-01 1.11588750e+00\n",
      "  3.89505266e-01 2.09626181e-01]\n",
      " [5.91588449e-03 1.68087396e-02 2.61263604e-02 7.86395753e-02\n",
      "  1.36504521e-01 1.94770110e-01 2.54506550e-01 3.11435758e-01\n",
      "  1.08557422e-01 5.46636541e-02]\n",
      " [2.97648859e-03 4.47210673e-03 1.18071336e-02 2.57039343e-02\n",
      "  4.02769282e-02 5.52668627e-02 7.10960370e-02 8.33251702e-02\n",
      "  3.15996736e-02 1.45664847e-02]\n",
      " [9.99773957e-04 1.28304623e-03 4.24829633e-03 7.82858495e-03\n",
      "  1.14788961e-02 1.55553690e-02 1.91850905e-02 2.23149973e-02\n",
      "  8.62735842e-03 3.87322533e-03]\n",
      " [2.75640521e-04 5.66554119e-04 1.48413720e-03 2.36450771e-03\n",
      "  3.30002588e-03 4.27701025e-03 5.13030589e-03 5.98277772e-03\n",
      "  2.53858806e-03 1.01284488e-03]]\n"
     ]
    },
    {
     "data": {
      "image/png": "[encoded data removed]",
      "text/plain": [
       "<Figure size 432x288 with 2 Axes>"
      ]
     },
     "metadata": {
      "needs_background": "light"
     },
     "output_type": "display_data"
    }
   ],
   "source": [
    "Omega= s_overm3(m/T0, gsm(T0))*m**4*np.exp(plotvar)/rho0\n",
    "print(Omega)\n",
    "\n",
    "\n",
    "plot(Omega)\n"
   ]
  },
  {
   "cell_type": "code",
   "execution_count": null,
   "metadata": {},
   "outputs": [],
   "source": []
  },
  {
   "cell_type": "code",
   "execution_count": 10,
   "metadata": {
    "pycharm": {
     "is_executing": false,
     "name": "#%%\n"
    }
   },
   "outputs": [
    {
     "data": {
      "text/plain": [
       "[<matplotlib.lines.Line2D at 0x21db907bf28>]"
      ]
     },
     "execution_count": 10,
     "metadata": {},
     "output_type": "execute_result"
    },
    {
     "data": {
      "image/png": "[encoded data removed]",
      "text/plain": [
       "<Figure size 432x288 with 1 Axes>"
      ]
     },
     "metadata": {
      "needs_background": "light"
     },
     "output_type": "display_data"
    }
   ],
   "source": [
    "plt.semilogx(T_data, gsm_data)"
   ]
  },
  {
   "cell_type": "code",
   "execution_count": 11,
   "metadata": {
    "pycharm": {
     "is_executing": false,
     "name": "#%%\n"
    }
   },
   "outputs": [
    {
     "data": {
      "text/plain": [
       "[<matplotlib.lines.Line2D at 0x21db92075c0>]"
      ]
     },
     "execution_count": 11,
     "metadata": {},
     "output_type": "execute_result"
    },
    {
     "data": {
      "image/png": "[encoded data removed]",
      "text/plain": [
       "<Figure size 432x288 with 1 Axes>"
      ]
     },
     "metadata": {
      "needs_background": "light"
     },
     "output_type": "display_data"
    }
   ],
   "source": [
    "plt.semilogx(Tmid_data, lngsmderiv_data)"
   ]
  },
  {
   "cell_type": "code",
   "execution_count": null,
   "metadata": {
    "pycharm": {
     "name": "#%%\n"
    }
   },
   "outputs": [],
   "source": []
  }
 ],
 "metadata": {
  "kernelspec": {
   "display_name": "Python 3",
   "language": "python",
   "name": "python3"
  },
  "language_info": {
   "codemirror_mode": {
    "name": "ipython",
    "version": 3
   },
   "file_extension": ".py",
   "mimetype": "text/x-python",
   "name": "python",
   "nbconvert_exporter": "python",
   "pygments_lexer": "ipython3",
   "version": "3.7.3"
  },
  "pycharm": {
   "stem_cell": {
    "cell_type": "raw",
    "metadata": {
     "collapsed": false
    },
    "source": []
   }
  }
 },
 "nbformat": 4,
 "nbformat_minor": 2
}
