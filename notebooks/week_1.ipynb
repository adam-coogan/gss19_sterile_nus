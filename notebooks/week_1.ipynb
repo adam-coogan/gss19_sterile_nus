{
 "cells": [
  {
   "cell_type": "markdown",
   "metadata": {},
   "source": [
    "# GRAPPA Student Seminar 2019: Sterile Neutrinos group"
   ]
  },
  {
   "cell_type": "markdown",
   "metadata": {},
   "source": [
    "## Week 1 - Script"
   ]
  },
  {
   "cell_type": "code",
   "execution_count": 6,
   "metadata": {
    "pycharm": {
     "is_executing": false
    }
   },
   "outputs": [],
   "source": [
    "import numpy as np\n",
    "from scipy.integrate import solve_ivp\n",
    "from scipy.interpolate import interp1d, interp2d\n",
    "from scipy.optimize import root\n",
    "from scipy.special import zeta\n",
    "from astropy import constants as C\n",
    "from astropy import units\n",
    "from astropy.cosmology import Planck15 as cosmo\n",
    "import matplotlib.pyplot as plt"
   ]
  },
  {
   "cell_type": "markdown",
   "metadata": {},
   "source": [
    "We will be working in mass units, so define some constants in $\\mathrm{GeV}$ (that's not even a mass unit, btw...):"
   ]
  },
  {
   "cell_type": "code",
   "execution_count": 7,
   "metadata": {
    "pycharm": {
     "is_executing": false,
     "name": "#%%\n"
    }
   },
   "outputs": [],
   "source": [
    "Mp = (np.sqrt(C.hbar*C.c/(8*np.pi*C.G)) * C.c**2).to(units.GeV)\n",
    "T0 = (C.k_B * cosmo.Tcmb0).to(units.GeV)\n",
    "rho0 = (cosmo.critical_density0 * C.hbar**3 * C.c**5).to(units.GeV**4)"
   ]
  },
  {
   "cell_type": "markdown",
   "metadata": {},
   "source": [
    "Define the grid of masses and cross-sections that we will be calculating the abundance for. These are logarithmically spaced."
   ]
  },
  {
   "cell_type": "code",
   "execution_count": 12,
   "metadata": {
    "pycharm": {
     "is_executing": false,
     "name": "#%%\n"
    }
   },
   "outputs": [],
   "source": [
    "m_edges = np.linspace(-12, 3, 201) \n",
    "sigma_edges = np.linspace(-12, -6, 201) \n",
    "m = np.power(10, 0.5*(m_edges[1:]+m_edges[:-1])) * units.GeV\n",
    "sigma = np.power(10, 0.5*(sigma_edges[1:]+sigma_edges[:-1])) * units.GeV**(-2)\n",
    "g = 1\n",
    "\n",
    "def plot(Odm):\n",
    "    plt.pcolormesh(m_edges, sigma_edges, np.log10(Odm))\n",
    "    plt.xlabel('$m$')\n",
    "    plt.ylabel(r'$\\left\\langle{\\sigma v}\\right\\rangle_{fo}, \\mathrm{GeV}^{-2}$')\n",
    "    plt.xticks((-12, -9, -6, -3, 0, 3), (r'$\\mathrm{meV}$', r'$\\mathrm{eV}$', r'$\\mathrm{keV}$', r'$\\mathrm{MeV}$', r'$\\mathrm{GeV}$', r'$\\mathrm{TeV}$'))\n",
    "    ax = plt.gca()\n",
    "    ax.yaxis.set_ticklabels(['$10^{{{:.0f}}}$'.format(n) for n in ax.yaxis.get_ticklocs()])\n",
    "    cax = plt.colorbar()\n",
    "    cax.ax.yaxis.set_ticklabels(['$10^{{{:.0f}}}$'.format(n) for n in cax.ax.yaxis.get_ticklocs()])"
   ]
  },
  {
   "cell_type": "markdown",
   "metadata": {},
   "source": [
    "### Part 1: Instantaneous freeze-out"
   ]
  },
  {
   "cell_type": "markdown",
   "metadata": {},
   "source": [
    "#### a. Relativistic (hot) dark matter"
   ]
  },
  {
   "cell_type": "markdown",
   "metadata": {},
   "source": [
    "The number density of a relativistic species is given by\n",
    "$$n = \\frac{\\zeta(3)}{\\pi^2} g T^3,$$\n",
    "where $\\zeta(3) \\approx 1.202$ is Apéry's constant, and $g$ is its number of degrees of freedom (including a factor of $3/4$ for a fermionic species). We will combine the constants into a single number and write $n=\\mathcal{N}T^3$. Because of the simple $T^3$ dependence of the number density, relativistic species redshift in the same way regardless of whether they are in thermal equilibrium ($n \\propto T^3$), or not ($n \\propto a^{-3} \\propto T_{\\gamma}^3$, with $T_\\gamma$ the photon temperature), and so we can simply estimate their present number density as $n = \\mathcal{N} T_0^3$. Therefore, their present-day abundance is simply\n",
    "$$\\Omega_{\\textrm{HDM}, 0} = \\frac{n m}{\\rho_c} = \\frac{\\zeta(3)}{\\pi^2} \\frac{T_0^3}{\\rho_c} gm.$$\n",
    "Note that it does not depend on the reaction cross-section since, as mentioned, it does not matter whether the DM particles react (are in thermal equilibrium) or not. Also note that $T_0$ is *their* present temperature. In calculations, though, we will be using the CMB (photon) temperature. A difference between the two can be present if another species remained in equilibrium with the photons after the dark matter decoupled and subsequently annihilated (as in the case of $e^+/e^-$, which led to a factor $11/4$ increase in $T_\\gamma^3$ post-neutrino decoupling due to the electron-positron annihilation heat)."
   ]
  },
  {
   "cell_type": "code",
   "execution_count": 13,
   "metadata": {
    "pycharm": {
     "is_executing": false,
     "name": "#%%\n"
    }
   },
   "outputs": [
    {
     "data": {
      "text/plain": "<matplotlib.collections.LineCollection at 0x10e9a04a8>"
     },
     "metadata": {},
     "output_type": "execute_result",
     "execution_count": 13
    },
    {
     "data": {
      "text/plain": "<Figure size 432x288 with 2 Axes>",
      "image/png": "[encoded data removed]"
     },
     "metadata": {
      "needs_background": "light"
     },
     "output_type": "display_data"
    }
   ],
   "source": [
    "Ohdm0 = ((zeta(3)/np.pi**2) * (T0**3 / rho0) * g * m).to('').value\n",
    "plot(np.broadcast_to(Ohdm0, np.broadcast(m[None, :], sigma[:, None]).shape))\n",
    "plt.vlines(np.log10((cosmo.Odm0 * (np.pi**2 / zeta(3)) * (rho0 / T0**3) / g).to('GeV').value),\n",
    "           sigma_edges[0], sigma_edges[-1], colors='r')"
   ]
  },
  {
   "cell_type": "markdown",
   "metadata": {},
   "source": [
    "The red line in the above plot indicates the mass that fits the Planck 2015 result of $\\Omega_{\\textrm{DM}, 0} = 0.26$."
   ]
  },
  {
   "cell_type": "markdown",
   "metadata": {},
   "source": [
    "#### b. Non-relativistic (cold) dark matter"
   ]
  },
  {
   "cell_type": "markdown",
   "metadata": {},
   "source": [
    "For a non-relativistic (cold: $m>T$) species, the number density derives from the classical Maxwell-Boltzmann distribution:\n",
    "$$n = g \\left(\\frac{mT}{2\\pi}\\right)^{3/2} \\textrm{e}^{-m/T}.$$\n",
    "Here $g$ is the number of classical degrees of freedom (no additional factors for spin statistics). Equating the reaction rate that results from such a number density $\\Gamma = n\\sigma v$ to the Hubble parameter $H = T^2 / M_p$ at the time of decoupling (freeze-out):\n",
    "$$n_{fo} \\left\\langle\\sigma v\\right\\rangle_{fo} = \\frac{T_{fo}^2}{M_p} \\quad\\implies\\quad g \\left(\\frac{mT_{fo}}{2\\pi}\\right)^{3/2} \\textrm{e}^{-m/T} = \\frac{T_{fo}^2}{M_p \\left\\langle\\sigma v\\right\\rangle_{fo}},$$\n",
    "which can be rearranged and expressed in terms of the dimensionless variable $x\\equiv m/T$:\n",
    "$$\\sqrt{x_{fo}}\\textrm{e}^{-x_{fo}} = \\frac{\\left(2\\pi\\right)^{3/2}}{g} \\frac{1}{M_p m \\left\\langle\\sigma v\\right\\rangle_{fo}} \\equiv A.$$\n",
    "This transcendental equation can be solved numerically for all values $A < 1/\\sqrt{2\\textrm{e}}$ of the right-hand-side. In fact, there are two solutions: one smaller and one larger than $x=1/2$, corresponding to the location of the maximum of the LHS. Furthermore, we are interested only in the case of a cold particle for which $x>1$, so we further restrict the possible values to $A<1/\\textrm{e}$.\n",
    "\n",
    "Once we have $x_{fo}$, we can calculate the present-day abundance using the formula from the lecture notes\n",
    "$$\\Omega_{\\textrm{CDM}, 0} = \\frac{T_0^3}{\\rho_c M_p} \\frac{x_{fo}}{\\left\\langle\\sigma v\\right\\rangle_{fo}}.$$"
   ]
  },
  {
   "cell_type": "code",
   "execution_count": 5,
   "metadata": {
    "pycharm": {
     "is_executing": false,
     "name": "#%%\n"
    }
   },
   "outputs": [],
   "source": [
    "A = (((2*np.pi)**(3/2) / g) / (Mp * m[None, :] * sigma[:, None])).to('').value\n",
    "\n",
    "# One-liner, 'cause Python:\n",
    "x_fo = np.vectorize(lambda a:\n",
    "                        np.nan\n",
    "                        if a > np.exp(-1)\n",
    "                        else root(lambda x: np.sqrt(x)*np.exp(-x)-a, 1).x\n",
    "                    )(A)\n",
    "Ocdm0 = (T0**3 / (rho0 * Mp)) * x_fo / sigma[:, None]"
   ]
  },
  {
   "cell_type": "code",
   "execution_count": 6,
   "metadata": {
    "pycharm": {
     "is_executing": false,
     "name": "#%%\n"
    }
   },
   "outputs": [
    {
     "name": "stderr",
     "output_type": "stream",
     "text": [
      "C:\\Users\\rafac\\Anaconda3\\lib\\site-packages\\scipy\\interpolate\\interpolate.py:688: RuntimeWarning: invalid value encountered in less\n",
      "  below_bounds = x_new < self.x[0]\n",
      "C:\\Users\\rafac\\Anaconda3\\lib\\site-packages\\scipy\\interpolate\\interpolate.py:689: RuntimeWarning: invalid value encountered in greater\n",
      "  above_bounds = x_new > self.x[-1]\n"
     ]
    },
    {
     "data": {
      "text/plain": [
       "[<matplotlib.lines.Line2D at 0x21db7d76358>]"
      ]
     },
     "execution_count": 6,
     "metadata": {},
     "output_type": "execute_result"
    },
    {
     "data": {
      "image/png": "[encoded data removed]",
      "text/plain": [
       "<Figure size 432x288 with 2 Axes>"
      ]
     },
     "metadata": {
      "needs_background": "light"
     },
     "output_type": "display_data"
    }
   ],
   "source": [
    "plot(Ocdm0)\n",
    "\n",
    "good = []\n",
    "diff = Ocdm0 - cosmo.Odm0\n",
    "diff[np.isnan(diff)] = np.inf\n",
    "initial_guesses = sigma[np.nanargmin(np.abs(diff), axis=0)]\n",
    "for i in range(Ocdm0.shape[1]):\n",
    "    ipol = interp1d(sigma, Ocdm0[:, i], kind='linear', bounds_error=False)\n",
    "    res = root(lambda x: ipol(x) - cosmo.Odm0, initial_guesses[i])\n",
    "    good.append(res.x[0] if res.success else np.nan)\n",
    "plt.plot(np.log10(m.value), np.log10(good), 'r-')"
   ]
  },
  {
   "cell_type": "markdown",
   "metadata": {},
   "source": [
    "In the plot above the blank area is the region where $A>1/\\textrm{e}$, while the red line again connects parametes that give $\\Omega_{\\textrm{DM}, 0} = 0.26$.\n",
    "\n",
    "TODO: explain \"How does it scale with these variables?\""
   ]
  },
  {
   "cell_type": "markdown",
   "metadata": {
    "pycharm": {
     "is_executing": false,
     "name": "#%% md\n"
    }
   },
   "source": [
    "### Part 2: Gradual cold dark matter freeze-out\n"
   ]
  },
  {
   "cell_type": "markdown",
   "metadata": {},
   "source": [
    "We wish to solve the Riccati equation\n",
    "\\begin{align}\n",
    "    \\frac{\\textrm{d}Y}{\\textrm{d}x} = \\frac{s \\left\\langle\\sigma v\\right\\rangle}{Hx} \\left[1 + \\frac{1}{3}\\frac{\\textrm{d}\\ln{g_s}}{\\textrm{d}\\ln{T}}\\right] \\left[Y_{\\textrm{eq}}^2 - Y^2\\right]\n",
    "    & = \\left(M_p \\left\\langle\\sigma v\\right\\rangle m\\right) \\frac{s}{m^3} x \\left[\\left(\\frac{n_{\\textrm{eq}}}{m^3} \\frac{m^3}{s}\\right)^2 - Y^2\\right] \\left[1 + \\frac{1}{3}\\frac{\\textrm{d}\\ln{g_s}}{\\textrm{d}\\ln{T}}\\right]\n",
    "    \\\\ & \\textrm{with} \\qquad \\frac{s}{m^3} = \\frac{2\\pi^2}{45} \\frac{g_s}{x^3}\n",
    "    \\qquad \\textrm{and} \\qquad \\frac{n_{\\textrm{eq}}}{m^3} = \\frac{g}{\\left(2\\pi\\right)^{3/2}} \\frac{\\textrm{e}^{-x}}{x^{3/2}}\n",
    "\\end{align}\n",
    "subject to the initial condition $Y(x=1) = Y_{\\textrm{eq}}(x=1)$. Instead, however, for greatly improved numerical performance, we will solve for $\\textrm{d}\\ln{Y} / \\textrm{d}\\ln{x}$ by introducing an additional factor $x/Y$ to the RHS."
   ]
  },
  {
   "cell_type": "code",
   "execution_count": 7,
   "metadata": {
    "pycharm": {
     "is_executing": false
    }
   },
   "outputs": [],
   "source": [
    "def neq_overm3(x, g=1):\n",
    "    return (g / (2 * np.pi * x)**(3/2)) * np.exp(-x)\n",
    "def s_overm3(x, gs):\n",
    "    return (2*np.pi**2/45) * gs / x**3\n",
    "def Yeq(x, gs, g=1):\n",
    "    return neq_overm3(x, g) / s_overm3(x, gs)\n",
    "\n",
    "T_data, gsm_data = np.loadtxt('week_1_g.csv', delimiter=',', unpack=True)\n",
    "gsm = interp1d(T_data*units.GeV, gsm_data, fill_value='extrapolate')\n",
    "\n",
    "Tmid_data = (T_data[:-1]+T_data[1:])/2\n",
    "lngsmderiv_data = np.diff(np.log(gsm_data)) / np.diff(np.log(T_data))\n",
    "lngsmderiv = interp1d(Tmid_data*units.GeV, lngsmderiv_data, fill_value='extrapolate')\n",
    "\n",
    "def Riccati(x, y, m, A, g=1):\n",
    "    s = s_overm3(x, gsm(m/x))\n",
    "    return A * s * x * ((neq_overm3(x, g)/s)**2 - y**2) * (1 + lngsmderiv(m/x) / 3)"
   ]
  },
  {
   "cell_type": "code",
   "execution_count": 30,
   "metadata": {
    "pycharm": {
     "is_executing": false
    }
   },
   "outputs": [],
   "source": [
    "m1 = 100*units.GeV"
   ]
  },
  {
   "cell_type": "code",
   "execution_count": 39,
   "metadata": {
    "pycharm": {
     "is_executing": false,
     "name": "#%%\n"
    }
   },
   "outputs": [
    {
     "name": "stdout",
     "output_type": "stream",
     "text": [
      "1.7133116169166635e-09 1 / GeV2\n",
      "0.0001713311616916663 1 / GeV2\n",
      "171.33116169166635 1 / GeV2\n",
      "[1.03514217e-12 1.10917482e-12 1.18850223e-12 1.27350308e-12\n",
      " 1.36458314e-12 1.46217717e-12 1.56675107e-12 1.67880402e-12\n",
      " 1.79887092e-12 1.92752491e-12 2.06538016e-12 2.21309471e-12\n",
      " 2.37137371e-12 2.54097271e-12 2.72270131e-12 2.91742701e-12\n",
      " 3.12607937e-12 3.34965439e-12 3.58921935e-12 3.84591782e-12\n",
      " 4.12097519e-12 4.41570447e-12 4.73151259e-12 5.06990708e-12\n",
      " 5.43250331e-12 5.82103218e-12 6.23734835e-12 6.68343918e-12\n",
      " 7.16143410e-12 7.67361489e-12 8.22242650e-12 8.81048873e-12\n",
      " 9.44060876e-12 1.01157945e-11 1.08392691e-11 1.16144861e-11\n",
      " 1.24451461e-11 1.33352143e-11 1.42889396e-11 1.53108746e-11\n",
      " 1.64058977e-11 1.75792361e-11 1.88364909e-11 2.01836636e-11\n",
      " 2.16271852e-11 2.31739465e-11 2.48313311e-11 2.66072506e-11\n",
      " 2.85101827e-11 3.05492111e-11 3.27340695e-11 3.50751874e-11\n",
      " 3.75837404e-11 4.02717034e-11 4.31519077e-11 4.62381021e-11\n",
      " 4.95450191e-11 5.30884444e-11 5.68852931e-11 6.09536897e-11\n",
      " 6.53130553e-11 6.99841996e-11 7.49894209e-11 8.03526122e-11\n",
      " 8.60993752e-11 9.22571427e-11 9.88553095e-11 1.05925373e-10\n",
      " 1.13501082e-10 1.21618600e-10 1.30316678e-10 1.39636836e-10\n",
      " 1.49623566e-10 1.60324539e-10 1.71790839e-10 1.84077200e-10\n",
      " 1.97242274e-10 2.11348904e-10 2.26464431e-10 2.42661010e-10\n",
      " 2.60015956e-10 2.78612117e-10 2.98538262e-10 3.19889511e-10\n",
      " 3.42767787e-10 3.67282300e-10 3.93550075e-10 4.21696503e-10\n",
      " 4.51855944e-10 4.84172368e-10 5.18800039e-10 5.55904257e-10\n",
      " 5.95662144e-10 6.38263486e-10 6.83911647e-10 7.32824533e-10\n",
      " 7.85235635e-10 8.41395142e-10 9.01571138e-10 9.66050879e-10\n",
      " 1.03514217e-09 1.10917482e-09 1.18850223e-09 1.27350308e-09\n",
      " 1.36458314e-09 1.46217717e-09 1.56675107e-09 1.67880402e-09\n",
      " 1.79887092e-09 1.92752491e-09 2.06538016e-09 2.21309471e-09\n",
      " 2.37137371e-09 2.54097271e-09 2.72270131e-09 2.91742701e-09\n",
      " 3.12607937e-09 3.34965439e-09 3.58921935e-09 3.84591782e-09\n",
      " 4.12097519e-09 4.41570447e-09 4.73151259e-09 5.06990708e-09\n",
      " 5.43250331e-09 5.82103218e-09 6.23734835e-09 6.68343918e-09\n",
      " 7.16143410e-09 7.67361489e-09 8.22242650e-09 8.81048873e-09\n",
      " 9.44060876e-09 1.01157945e-08 1.08392691e-08 1.16144861e-08\n",
      " 1.24451461e-08 1.33352143e-08 1.42889396e-08 1.53108746e-08\n",
      " 1.64058977e-08 1.75792361e-08 1.88364909e-08 2.01836636e-08\n",
      " 2.16271852e-08 2.31739465e-08 2.48313311e-08 2.66072506e-08\n",
      " 2.85101827e-08 3.05492111e-08 3.27340695e-08 3.50751874e-08\n",
      " 3.75837404e-08 4.02717034e-08 4.31519077e-08 4.62381021e-08\n",
      " 4.95450191e-08 5.30884444e-08 5.68852931e-08 6.09536897e-08\n",
      " 6.53130553e-08 6.99841996e-08 7.49894209e-08 8.03526122e-08\n",
      " 8.60993752e-08 9.22571427e-08 9.88553095e-08 1.05925373e-07\n",
      " 1.13501082e-07 1.21618600e-07 1.30316678e-07 1.39636836e-07\n",
      " 1.49623566e-07 1.60324539e-07 1.71790839e-07 1.84077200e-07\n",
      " 1.97242274e-07 2.11348904e-07 2.26464431e-07 2.42661010e-07\n",
      " 2.60015956e-07 2.78612117e-07 2.98538262e-07 3.19889511e-07\n",
      " 3.42767787e-07 3.67282300e-07 3.93550075e-07 4.21696503e-07\n",
      " 4.51855944e-07 4.84172368e-07 5.18800039e-07 5.55904257e-07\n",
      " 5.95662144e-07 6.38263486e-07 6.83911647e-07 7.32824533e-07\n",
      " 7.85235635e-07 8.41395142e-07 9.01571138e-07 9.66050879e-07] 1 / GeV2\n"
     ]
    },
    {
     "name": "stderr",
     "output_type": "stream",
     "text": [
      "C:\\Users\\rafac\\Anaconda3\\lib\\site-packages\\ipykernel_launcher.py:22: RuntimeWarning: divide by zero encountered in log10\n"
     ]
    },
    {
     "data": {
      "text/plain": [
       "(-20, 5)"
      ]
     },
     "execution_count": 39,
     "metadata": {},
     "output_type": "execute_result"
    },
    {
     "data": {
      "image/png": "[encoded data removed]",
      "text/plain": [
       "<Figure size 432x288 with 1 Axes>"
      ]
     },
     "metadata": {
      "needs_background": "light"
     },
     "output_type": "display_data"
    }
   ],
   "source": [
    "log10xmax = 3\n",
    "y0 = Yeq(1, gsm(m1))\n",
    "\n",
    "xinterpr = interp2d(m, sigma, x_fo)\n",
    "\n",
    "for sexp in (-26, -21, -15):\n",
    "    sigma1 = 2*10**sexp * (units.cm**3/units.s)/C.c\n",
    "    sigma1 = (sigma1/(C.hbar*C.c)**2).to(units.GeV**(-2))\n",
    "    sol = solve_ivp(lambda logx, logy:\n",
    "                        Riccati(np.exp(logx), np.exp(logy),\n",
    "                                m1, Mp*m1*sigma1)\n",
    "                        * np.exp(logx-logy),\n",
    "                    (0, log10xmax*np.log(10)), [np.log(y0)],\n",
    "                    method='BDF')\n",
    "    plt.plot(sol.t/np.log(10), 2 + sol.y[0]/np.log(10)-np.log10(y0))\n",
    "    plt.vlines(np.log10(xinterpr(m1,sigma1)),-20,5)\n",
    "    print(sigma1)\n",
    "plt.plot(np.linspace(0, 5, 101),\n",
    "         2 + np.log10(Yeq(np.logspace(0, 5, 101),\n",
    "                          gsm(m1 / np.logspace(0, 5, 101)))\n",
    "                      / y0))\n",
    "plt.ylim(-20, 5)"
   ]
  },
  {
   "cell_type": "code",
   "execution_count": 21,
   "metadata": {},
   "outputs": [],
   "source": [
    "m_edges = np.linspace(-12, 3, 11) \n",
    "sigma_edges = np.linspace(-12, -6, 11) \n",
    "m = np.power(10, 0.5*(m_edges[1:]+m_edges[:-1])) * units.GeV\n",
    "sigma = np.power(10, 0.5*(sigma_edges[1:]+sigma_edges[:-1])) * units.GeV**(-2)\n",
    "g = 1\n",
    "@np.vectorize\n",
    "def whatever(m,sigma, logxfinal, logy0):\n",
    "    sol = solve_ivp(lambda logx, logy:\n",
    "                        Riccati(np.exp(logx), np.exp(logy),\n",
    "                                m, Mp*m*sigma)\n",
    "                        * np.exp(logx-logy),\n",
    "                    (0, logxfinal*np.log(10)), [logy0],\n",
    "                    method='BDF')\n",
    "    return sol.y[0,-1]\n",
    "\n",
    "plotvar = whatever(m.value[None, :], sigma.value[:, None], 3, Yeq(1, gsm(m)))\n",
    "\n"
   ]
  },
  {
   "cell_type": "code",
   "execution_count": 49,
   "metadata": {},
   "outputs": [
    {
     "ename": "ValueError",
     "evalue": "operands could not be broadcast together with shapes (200,) (10,10) ",
     "output_type": "error",
     "traceback": [
      "\u001b[1;31m---------------------------------------------------------------------------\u001b[0m",
      "\u001b[1;31mValueError\u001b[0m                                Traceback (most recent call last)",
      "\u001b[1;32m<ipython-input-49-4e3ad75d714f>\u001b[0m in \u001b[0;36m<module>\u001b[1;34m\u001b[0m\n\u001b[1;32m----> 1\u001b[1;33m \u001b[0mOmega\u001b[0m\u001b[1;33m=\u001b[0m \u001b[0ms_overm3\u001b[0m\u001b[1;33m(\u001b[0m\u001b[0mm\u001b[0m\u001b[1;33m/\u001b[0m\u001b[0mT0\u001b[0m\u001b[1;33m,\u001b[0m \u001b[0mgsm\u001b[0m\u001b[1;33m(\u001b[0m\u001b[0mT0\u001b[0m\u001b[1;33m)\u001b[0m\u001b[1;33m)\u001b[0m\u001b[1;33m*\u001b[0m\u001b[0mm\u001b[0m\u001b[1;33m**\u001b[0m\u001b[1;36m4\u001b[0m\u001b[1;33m*\u001b[0m\u001b[0mnp\u001b[0m\u001b[1;33m.\u001b[0m\u001b[0mexp\u001b[0m\u001b[1;33m(\u001b[0m\u001b[0mplotvar\u001b[0m\u001b[1;33m)\u001b[0m\u001b[1;33m/\u001b[0m\u001b[0mrho0\u001b[0m\u001b[1;33m\u001b[0m\u001b[1;33m\u001b[0m\u001b[0m\n\u001b[0m\u001b[0;32m      2\u001b[0m \u001b[0mprint\u001b[0m\u001b[1;33m(\u001b[0m\u001b[0mOmega\u001b[0m\u001b[1;33m)\u001b[0m\u001b[1;33m\u001b[0m\u001b[1;33m\u001b[0m\u001b[0m\n\u001b[0;32m      3\u001b[0m \u001b[1;33m\u001b[0m\u001b[0m\n\u001b[0;32m      4\u001b[0m \u001b[1;33m\u001b[0m\u001b[0m\n\u001b[0;32m      5\u001b[0m \u001b[0mplot\u001b[0m\u001b[1;33m(\u001b[0m\u001b[0mOmega\u001b[0m\u001b[1;33m)\u001b[0m\u001b[1;33m\u001b[0m\u001b[1;33m\u001b[0m\u001b[0m\n",
      "\u001b[1;32m~\\Anaconda3\\lib\\site-packages\\astropy\\units\\quantity.py\u001b[0m in \u001b[0;36m__mul__\u001b[1;34m(self, other)\u001b[0m\n\u001b[0;32m    924\u001b[0m                 \u001b[1;32mreturn\u001b[0m \u001b[0mNotImplemented\u001b[0m\u001b[1;33m\u001b[0m\u001b[1;33m\u001b[0m\u001b[0m\n\u001b[0;32m    925\u001b[0m \u001b[1;33m\u001b[0m\u001b[0m\n\u001b[1;32m--> 926\u001b[1;33m         \u001b[1;32mreturn\u001b[0m \u001b[0msuper\u001b[0m\u001b[1;33m(\u001b[0m\u001b[1;33m)\u001b[0m\u001b[1;33m.\u001b[0m\u001b[0m__mul__\u001b[0m\u001b[1;33m(\u001b[0m\u001b[0mother\u001b[0m\u001b[1;33m)\u001b[0m\u001b[1;33m\u001b[0m\u001b[1;33m\u001b[0m\u001b[0m\n\u001b[0m\u001b[0;32m    927\u001b[0m \u001b[1;33m\u001b[0m\u001b[0m\n\u001b[0;32m    928\u001b[0m     \u001b[1;32mdef\u001b[0m \u001b[0m__imul__\u001b[0m\u001b[1;33m(\u001b[0m\u001b[0mself\u001b[0m\u001b[1;33m,\u001b[0m \u001b[0mother\u001b[0m\u001b[1;33m)\u001b[0m\u001b[1;33m:\u001b[0m\u001b[1;33m\u001b[0m\u001b[1;33m\u001b[0m\u001b[0m\n",
      "\u001b[1;32m~\\Anaconda3\\lib\\site-packages\\astropy\\units\\quantity.py\u001b[0m in \u001b[0;36m__array_ufunc__\u001b[1;34m(self, function, method, *inputs, **kwargs)\u001b[0m\n\u001b[0;32m    461\u001b[0m \u001b[1;33m\u001b[0m\u001b[0m\n\u001b[0;32m    462\u001b[0m         \u001b[1;31m# Call our superclass's __array_ufunc__\u001b[0m\u001b[1;33m\u001b[0m\u001b[1;33m\u001b[0m\u001b[1;33m\u001b[0m\u001b[0m\n\u001b[1;32m--> 463\u001b[1;33m         \u001b[0mresult\u001b[0m \u001b[1;33m=\u001b[0m \u001b[0msuper\u001b[0m\u001b[1;33m(\u001b[0m\u001b[1;33m)\u001b[0m\u001b[1;33m.\u001b[0m\u001b[0m__array_ufunc__\u001b[0m\u001b[1;33m(\u001b[0m\u001b[0mfunction\u001b[0m\u001b[1;33m,\u001b[0m \u001b[0mmethod\u001b[0m\u001b[1;33m,\u001b[0m \u001b[1;33m*\u001b[0m\u001b[0marrays\u001b[0m\u001b[1;33m,\u001b[0m \u001b[1;33m**\u001b[0m\u001b[0mkwargs\u001b[0m\u001b[1;33m)\u001b[0m\u001b[1;33m\u001b[0m\u001b[1;33m\u001b[0m\u001b[0m\n\u001b[0m\u001b[0;32m    464\u001b[0m         \u001b[1;31m# If unit is None, a plain array is expected (e.g., comparisons), which\u001b[0m\u001b[1;33m\u001b[0m\u001b[1;33m\u001b[0m\u001b[1;33m\u001b[0m\u001b[0m\n\u001b[0;32m    465\u001b[0m         \u001b[1;31m# means we're done.\u001b[0m\u001b[1;33m\u001b[0m\u001b[1;33m\u001b[0m\u001b[1;33m\u001b[0m\u001b[0m\n",
      "\u001b[1;31mValueError\u001b[0m: operands could not be broadcast together with shapes (200,) (10,10) "
     ]
    }
   ],
   "source": [
    "Omega= s_overm3(m/T0, gsm(T0))*m**4*np.exp(plotvar)/rho0\n",
    "print(Ome\n",
    "plot(Omega)\n"
   ]
  },
  {
   "cell_type": "code",
   "execution_count": null,
   "metadata": {},
   "outputs": [],
   "source": []
  }
 ],
 "metadata": {
  "kernelspec": {
   "display_name": "Python 3",
   "language": "python",
   "name": "python3"
  },
  "language_info": {
   "codemirror_mode": {
    "name": "ipython",
    "version": 3
   },
   "file_extension": ".py",
   "mimetype": "text/x-python",
   "name": "python",
   "nbconvert_exporter": "python",
   "pygments_lexer": "ipython3",
   "version": "3.7.3"
  },
  "pycharm": {
   "stem_cell": {
    "cell_type": "raw",
    "source": [],
    "metadata": {
     "collapsed": false
    }
   }
  }
 },
 "nbformat": 4,
 "nbformat_minor": 2
}